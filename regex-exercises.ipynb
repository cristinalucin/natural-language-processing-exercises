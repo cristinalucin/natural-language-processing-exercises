{
 "cells": [
  {
   "cell_type": "code",
   "execution_count": 2,
   "id": "618a140e",
   "metadata": {},
   "outputs": [],
   "source": [
    "import pandas as pd\n",
    "import numpy as np\n",
    "import re"
   ]
  },
  {
   "cell_type": "markdown",
   "id": "3e6484ee",
   "metadata": {},
   "source": [
    "### 1. Write a function named is_vowel. It should accept a string as input and use a regular expression to determine if the passed string is a vowel. While not explicity mentioned in the lesson, you can treat the result of re.search as a boolean value that indicates whether or not the regular expression matches the given string."
   ]
  },
  {
   "cell_type": "code",
   "execution_count": 30,
   "id": "25095462",
   "metadata": {},
   "outputs": [],
   "source": [
    "def is_vowel(string):\n",
    "    regex = r\"[aeiou]\"\n",
    "    matches = re.search(regex, string)\n",
    "    if bool(matches) == True:\n",
    "        print('Its a vowel!')\n",
    "    else:\n",
    "        print('Not a vowel')"
   ]
  },
  {
   "cell_type": "code",
   "execution_count": 31,
   "id": "cb7face6",
   "metadata": {},
   "outputs": [
    {
     "name": "stdout",
     "output_type": "stream",
     "text": [
      "Its a vowel!\n"
     ]
    }
   ],
   "source": [
    "is_vowel('a')"
   ]
  },
  {
   "cell_type": "code",
   "execution_count": 16,
   "id": "0cc537eb",
   "metadata": {},
   "outputs": [
    {
     "data": {
      "text/plain": [
       "<re.Match object; span=(0, 1), match='a'>"
      ]
     },
     "execution_count": 16,
     "metadata": {},
     "output_type": "execute_result"
    }
   ],
   "source": [
    "re.search(r\"[aeiou]\", \"a\")"
   ]
  },
  {
   "cell_type": "code",
   "execution_count": 23,
   "id": "c6fee42b",
   "metadata": {},
   "outputs": [],
   "source": [
    "string = 'a'\n",
    "regex = r\"[aeiou]\"\n",
    "result = re.search(regex, string)"
   ]
  },
  {
   "cell_type": "code",
   "execution_count": 27,
   "id": "fc186370",
   "metadata": {},
   "outputs": [
    {
     "name": "stdout",
     "output_type": "stream",
     "text": [
      "ran\n"
     ]
    }
   ],
   "source": [
    "if result:\n",
    "    print('ran')"
   ]
  },
  {
   "cell_type": "markdown",
   "id": "1d637cd0",
   "metadata": {},
   "source": [
    "### 2. Write a function named is_valid_username that accepts a string as input. A valid username starts with a lowercase letter, and only consists of lowercase letters, numbers, or the _ character. It should also be no longer than 32 characters. The function should return either True or False depending on whether the passed string is a valid username."
   ]
  },
  {
   "cell_type": "code",
   "execution_count": 24,
   "id": "5033e6ca",
   "metadata": {},
   "outputs": [
    {
     "data": {
      "text/plain": [
       "<re.Match object; span=(0, 30), match='jmoneymoney123fjhjkfhahfkjaadh'>"
      ]
     },
     "execution_count": 24,
     "metadata": {},
     "output_type": "execute_result"
    }
   ],
   "source": [
    "regex = r\"^[a-z]([a-z]|[0-9]|_){1,32}$\"\n",
    "string = \"jmoneymoney123fjhjkfhahfkjaadh\"\n",
    "re.search(regex, string)"
   ]
  },
  {
   "cell_type": "code",
   "execution_count": 16,
   "id": "c4b18398",
   "metadata": {},
   "outputs": [],
   "source": [
    "def is_valid_username(string):\n",
    "    regex = r\"^[a-z\\w]{1,32}$\"\n",
    "    matches = re.search(regex, string)\n",
    "    if bool(matches) == True:\n",
    "        return True\n",
    "    else:\n",
    "        return False"
   ]
  },
  {
   "cell_type": "code",
   "execution_count": 17,
   "id": "9e3623e8",
   "metadata": {},
   "outputs": [
    {
     "data": {
      "text/plain": [
       "True"
      ]
     },
     "execution_count": 17,
     "metadata": {},
     "output_type": "execute_result"
    }
   ],
   "source": [
    "is_valid_username('jmoneymoney123fjhjkfhahfkjahsadh')"
   ]
  },
  {
   "cell_type": "markdown",
   "id": "30746f5a",
   "metadata": {},
   "source": [
    "### 3. Write a regular expression to capture phone numbers. It should match all of the following:"
   ]
  },
  {
   "cell_type": "markdown",
   "id": "bc35ebe5",
   "metadata": {},
   "source": [
    "- (210) 867 5309\n",
    "- +1 210.867.5309\n",
    "- 867-5309\n",
    "- 210-867-5309"
   ]
  },
  {
   "cell_type": "code",
   "execution_count": 23,
   "id": "5ad4b97c",
   "metadata": {},
   "outputs": [
    {
     "data": {
      "text/plain": [
       "<re.Match object; span=(0, 15), match='+1 210.867.5309'>"
      ]
     },
     "execution_count": 23,
     "metadata": {},
     "output_type": "execute_result"
    }
   ],
   "source": [
    "phone_number = '+1 210.867.5309'\n",
    "numbers = ['(210) 867 5309',\n",
    "'+1 210.867.5309',\n",
    "'867-5309',\n",
    "'210-867-5309']\n",
    "regex = r\"^\\(?\\+?([0-9]{1,3})?[- (]?\\(?([0-9]{3})?[-. )]*?\\(?([0-9]{3})[-. )]*?\\(?([0-9]{4})\\)?\\s?$\"\n",
    "re.search(regex, phone_number)"
   ]
  },
  {
   "cell_type": "code",
   "execution_count": null,
   "id": "e5cead95",
   "metadata": {},
   "outputs": [],
   "source": []
  },
  {
   "cell_type": "markdown",
   "id": "ec14281a",
   "metadata": {},
   "source": [
    "### 4. Use regular expressions to convert the dates below to the standardized year-month-day format."
   ]
  },
  {
   "cell_type": "markdown",
   "id": "dd627844",
   "metadata": {},
   "source": [
    "02/04/19\n",
    "\n",
    "02/05/19\n",
    "\n",
    "02/06/19\n",
    "\n",
    "02/07/19\n",
    "\n",
    "02/08/19\n",
    "\n",
    "02/09/19\n",
    "\n",
    "02/10/19"
   ]
  },
  {
   "cell_type": "code",
   "execution_count": 8,
   "id": "4599f9ad",
   "metadata": {},
   "outputs": [
    {
     "data": {
      "text/plain": [
       "<re.Match object; span=(0, 10), match='2002-04-19'>"
      ]
     },
     "execution_count": 8,
     "metadata": {},
     "output_type": "execute_result"
    }
   ],
   "source": [
    "date = '2002-04-19'\n",
    "regex = r\"^[0-9]{4}-[0-9]{2}-[0-9]{2}$\"\n",
    "re.search(regex, date)"
   ]
  },
  {
   "cell_type": "markdown",
   "id": "56a5682f",
   "metadata": {},
   "source": [
    "### 5. Write a regex to extract the various parts of these logfile lines:"
   ]
  },
  {
   "cell_type": "code",
   "execution_count": 26,
   "id": "fde5b12b",
   "metadata": {},
   "outputs": [],
   "source": [
    "log_1 = 'GET /api/v1/sales?page=86 [16/Apr/2019:193452+0000] HTTP/1.1 {200} 510348 \"python-requests/2.21.0\" 97.105.19.58'\n",
    "log_2 = 'POST /users_accounts/file-upload [16/Apr/2019:193452+0000] HTTP/1.1 {201} 42 \"User-Agent: Mozilla/5.0 (X11; Fedora; Fedora; Linux x86_64) AppleWebKit/537.36 (KHTML, like Gecko) Chrome/73.0.3683.86 Safari/537.36\" 97.105.19.58'\n",
    "log_3 = 'GET /api/v1/items?page=3 [16/Apr/2019:193453+0000] HTTP/1.1 {429} 3561 \"python-requests/2.21.0\" 97.105.19.58'\n"
   ]
  },
  {
   "cell_type": "code",
   "execution_count": 29,
   "id": "94c37b2d",
   "metadata": {},
   "outputs": [
    {
     "data": {
      "text/plain": [
       "<re.Match object; span=(212, 224), match='97.105.19.58'>"
      ]
     },
     "execution_count": 29,
     "metadata": {},
     "output_type": "execute_result"
    }
   ],
   "source": [
    "ip_re = r\"(\\d{2})\\.(\\d{3})\\.(\\d{2}).(\\d{2})\"\n",
    "re.search(ip_re, log_2)"
   ]
  },
  {
   "cell_type": "code",
   "execution_count": null,
   "id": "d41f3c27",
   "metadata": {},
   "outputs": [],
   "source": [
    "r\"^()(HTTP/)(\\w+)\\.(\\w+)"
   ]
  }
 ],
 "metadata": {
  "kernelspec": {
   "display_name": "Python 3 (ipykernel)",
   "language": "python",
   "name": "python3"
  },
  "language_info": {
   "codemirror_mode": {
    "name": "ipython",
    "version": 3
   },
   "file_extension": ".py",
   "mimetype": "text/x-python",
   "name": "python",
   "nbconvert_exporter": "python",
   "pygments_lexer": "ipython3",
   "version": "3.9.15"
  }
 },
 "nbformat": 4,
 "nbformat_minor": 5
}
