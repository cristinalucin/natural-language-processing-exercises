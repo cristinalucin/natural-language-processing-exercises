{
 "cells": [
  {
   "cell_type": "code",
   "execution_count": 1,
   "id": "cdd8a719",
   "metadata": {},
   "outputs": [],
   "source": [
    "import pandas as pd\n",
    "import numpy as np\n",
    "import re"
   ]
  },
  {
   "cell_type": "code",
   "execution_count": 2,
   "id": "7964bfbd",
   "metadata": {},
   "outputs": [
    {
     "data": {
      "text/plain": [
       "['b']"
      ]
     },
     "execution_count": 2,
     "metadata": {},
     "output_type": "execute_result"
    }
   ],
   "source": [
    "re.findall(r'b', 'abcd')"
   ]
  },
  {
   "cell_type": "code",
   "execution_count": 3,
   "id": "073b58cb",
   "metadata": {},
   "outputs": [
    {
     "data": {
      "text/plain": [
       "'Two households, both alike in dignity, In fair Verona, where we lay our scene, From ancient grudge break to new mutiny, Where civil blood makes civil hands unclean.'"
      ]
     },
     "execution_count": 3,
     "metadata": {},
     "output_type": "execute_result"
    }
   ],
   "source": [
    "string = 'Two households, both alike in dignity, In fair Verona, where we lay our scene, From ancient grudge break to new mutiny, Where civil blood makes civil hands unclean.'\n",
    "string"
   ]
  },
  {
   "cell_type": "code",
   "execution_count": 4,
   "id": "e1295254",
   "metadata": {},
   "outputs": [
    {
     "data": {
      "text/plain": [
       "<re.Match object; span=(47, 53), match='Verona'>"
      ]
     },
     "execution_count": 4,
     "metadata": {},
     "output_type": "execute_result"
    }
   ],
   "source": [
    "#Search for a literal match of the string verona\n",
    "#re.search(r\"pattern\", \"our subject\")\n",
    "re.search(r\"Verona\", string)"
   ]
  },
  {
   "cell_type": "code",
   "execution_count": 5,
   "id": "62b5723f",
   "metadata": {},
   "outputs": [
    {
     "data": {
      "text/plain": [
       "'Verona'"
      ]
     },
     "execution_count": 5,
     "metadata": {},
     "output_type": "execute_result"
    }
   ],
   "source": [
    "#Span is the actual index location\n",
    "string[47:53]"
   ]
  },
  {
   "cell_type": "code",
   "execution_count": 6,
   "id": "a13d8795",
   "metadata": {},
   "outputs": [
    {
     "data": {
      "text/plain": [
       "<re.Match object; span=(39, 53), match='In fair Verona'>"
      ]
     },
     "execution_count": 6,
     "metadata": {},
     "output_type": "execute_result"
    }
   ],
   "source": [
    "re.search(r\"In fair Verona\", string)"
   ]
  },
  {
   "cell_type": "code",
   "execution_count": 7,
   "id": "740a3afe",
   "metadata": {},
   "outputs": [
    {
     "data": {
      "text/plain": [
       "'In fair Verona'"
      ]
     },
     "execution_count": 7,
     "metadata": {},
     "output_type": "execute_result"
    }
   ],
   "source": [
    "string[39:53]"
   ]
  },
  {
   "cell_type": "code",
   "execution_count": 8,
   "id": "223eca01",
   "metadata": {},
   "outputs": [],
   "source": [
    "#String Leonardo Di Caprio isnt there, so no match\n",
    "re.search(r\"Leonard DiCaprio\", string)"
   ]
  },
  {
   "cell_type": "code",
   "execution_count": 9,
   "id": "78be7891",
   "metadata": {},
   "outputs": [
    {
     "data": {
      "text/plain": [
       "<re.Match object; span=(126, 131), match='civil'>"
      ]
     },
     "execution_count": 9,
     "metadata": {},
     "output_type": "execute_result"
    }
   ],
   "source": [
    "#re.search returns the first match\n",
    "re.search(r\"civil\", string)"
   ]
  },
  {
   "cell_type": "code",
   "execution_count": 10,
   "id": "53fcfc6e",
   "metadata": {},
   "outputs": [
    {
     "data": {
      "text/plain": [
       "'civil'"
      ]
     },
     "execution_count": 10,
     "metadata": {},
     "output_type": "execute_result"
    }
   ],
   "source": [
    "string[126:131]"
   ]
  },
  {
   "cell_type": "code",
   "execution_count": 11,
   "id": "41b73daf",
   "metadata": {},
   "outputs": [
    {
     "data": {
      "text/plain": [
       "['civil', 'civil']"
      ]
     },
     "execution_count": 11,
     "metadata": {},
     "output_type": "execute_result"
    }
   ],
   "source": [
    "# .findall returns all matches\n",
    "re.findall(r\"civil\", string)"
   ]
  },
  {
   "cell_type": "code",
   "execution_count": 12,
   "id": "9bf848b0",
   "metadata": {},
   "outputs": [
    {
     "data": {
      "text/plain": [
       "[]"
      ]
     },
     "execution_count": 12,
     "metadata": {},
     "output_type": "execute_result"
    }
   ],
   "source": [
    "#Empty set for no matches with .findall\n",
    "re.findall(r\"Leonardo DiCaprio\", string)"
   ]
  },
  {
   "cell_type": "code",
   "execution_count": 13,
   "id": "6167218c",
   "metadata": {},
   "outputs": [
    {
     "data": {
      "text/plain": [
       "<re.Match object; span=(0, 3), match='Two'>"
      ]
     },
     "execution_count": 13,
     "metadata": {},
     "output_type": "execute_result"
    }
   ],
   "source": [
    "#Also case sensitive\n",
    "re.search(r\"Two\", string)"
   ]
  },
  {
   "cell_type": "code",
   "execution_count": 14,
   "id": "caa5afe7",
   "metadata": {},
   "outputs": [],
   "source": [
    "#case sensitive\n",
    "re.search(r\"two\", string)"
   ]
  },
  {
   "cell_type": "code",
   "execution_count": 15,
   "id": "dc6f6a7b",
   "metadata": {},
   "outputs": [
    {
     "data": {
      "text/plain": [
       "<re.Match object; span=(0, 3), match='Two'>"
      ]
     },
     "execution_count": 15,
     "metadata": {},
     "output_type": "execute_result"
    }
   ],
   "source": [
    "# The re.IGNORECASE flag does exactly that\n",
    "re.search(r\"two\", string, re.IGNORECASE)"
   ]
  },
  {
   "cell_type": "code",
   "execution_count": 16,
   "id": "bfe68a8f",
   "metadata": {},
   "outputs": [
    {
     "data": {
      "text/plain": [
       "<re.Match object; span=(0, 1), match='a'>"
      ]
     },
     "execution_count": 16,
     "metadata": {},
     "output_type": "execute_result"
    }
   ],
   "source": [
    "re.search(r\"A\", \"aaaaaaaaa\", re.IGNORECASE)"
   ]
  },
  {
   "cell_type": "code",
   "execution_count": 17,
   "id": "53ba47f4",
   "metadata": {},
   "outputs": [
    {
     "data": {
      "text/plain": [
       "<re.Match object; span=(0, 5), match='aaaaa'>"
      ]
     },
     "execution_count": 17,
     "metadata": {},
     "output_type": "execute_result"
    }
   ],
   "source": [
    "re.search(r\"Aaaaa\", \"aaaaaa\", re.IGNORECASE)"
   ]
  },
  {
   "cell_type": "code",
   "execution_count": 18,
   "id": "65ee2ac5",
   "metadata": {},
   "outputs": [],
   "source": [
    "#Looking for more a's than in the string (aaa)\n",
    "re.search(r\"aaaaaaaaaaaa\", \"aaa\")"
   ]
  },
  {
   "cell_type": "markdown",
   "id": "3354b100",
   "metadata": {},
   "source": [
    "### Using | for a logical OR to open opporunities"
   ]
  },
  {
   "cell_type": "code",
   "execution_count": 19,
   "id": "567d8715",
   "metadata": {},
   "outputs": [
    {
     "data": {
      "text/plain": [
       "['grey', 'gray', 'grey']"
      ]
     },
     "execution_count": 19,
     "metadata": {},
     "output_type": "execute_result"
    }
   ],
   "source": [
    "# OR\n",
    "#Findall returns all matches\n",
    "re.findall(r\"gray|grey\", \"I can't remember if you spell grey like gray or like grey\")"
   ]
  },
  {
   "cell_type": "code",
   "execution_count": 21,
   "id": "d8849415",
   "metadata": {},
   "outputs": [
    {
     "data": {
      "text/plain": [
       "<re.Match object; span=(12, 17), match='apple'>"
      ]
     },
     "execution_count": 21,
     "metadata": {},
     "output_type": "execute_result"
    }
   ],
   "source": [
    "#The .search method matches only the first match\n",
    "re.search(r\"orange|apple\", \"I like both apples and oranges\")"
   ]
  },
  {
   "cell_type": "code",
   "execution_count": 22,
   "id": "b64eaa91",
   "metadata": {},
   "outputs": [
    {
     "data": {
      "text/plain": [
       "['this', 'that', 'this', 'that']"
      ]
     },
     "execution_count": 22,
     "metadata": {},
     "output_type": "execute_result"
    }
   ],
   "source": [
    "re.findall(r'this|that', 'this, that, this, that')"
   ]
  },
  {
   "cell_type": "code",
   "execution_count": 23,
   "id": "116d3507",
   "metadata": {},
   "outputs": [
    {
     "data": {
      "text/plain": [
       "<re.Match object; span=(1, 2), match='a'>"
      ]
     },
     "execution_count": 23,
     "metadata": {},
     "output_type": "execute_result"
    }
   ],
   "source": [
    "#has a vowel, anywhere\n",
    "re.search(r'a|e|i|o|u', 'banana')"
   ]
  },
  {
   "cell_type": "code",
   "execution_count": 24,
   "id": "bcf62e8a",
   "metadata": {},
   "outputs": [
    {
     "data": {
      "text/plain": [
       "<re.Match object; span=(1, 2), match='a'>"
      ]
     },
     "execution_count": 24,
     "metadata": {},
     "output_type": "execute_result"
    }
   ],
   "source": [
    "re.search(r'[aeiou]', 'banana')"
   ]
  },
  {
   "cell_type": "code",
   "execution_count": 28,
   "id": "7354088e",
   "metadata": {},
   "outputs": [
    {
     "data": {
      "text/plain": [
       "['a', 'a', 'a']"
      ]
     },
     "execution_count": 28,
     "metadata": {},
     "output_type": "execute_result"
    }
   ],
   "source": [
    "re.findall(r'[aeiou]', 'banana')"
   ]
  },
  {
   "cell_type": "code",
   "execution_count": 30,
   "id": "dbd5ee7a",
   "metadata": {},
   "outputs": [
    {
     "data": {
      "text/plain": [
       "<re.Match object; span=(0, 10), match='bananarama'>"
      ]
     },
     "execution_count": 30,
     "metadata": {},
     "output_type": "execute_result"
    }
   ],
   "source": [
    "#Carot is starts-with\n",
    "# . is any character\n",
    "# * is zero or more\n",
    "# + is one or more times\n",
    "re.search(r'^b.*', 'bananarama')"
   ]
  },
  {
   "cell_type": "code",
   "execution_count": 31,
   "id": "7383d678",
   "metadata": {},
   "outputs": [
    {
     "data": {
      "text/plain": [
       "<re.Match object; span=(1, 2), match='a'>"
      ]
     },
     "execution_count": 31,
     "metadata": {},
     "output_type": "execute_result"
    }
   ],
   "source": [
    "re.search(r'[^b.*]', 'bananarama')"
   ]
  },
  {
   "cell_type": "code",
   "execution_count": 32,
   "id": "550e468f",
   "metadata": {},
   "outputs": [],
   "source": [
    "# + means 1 or more time\n",
    "re.search(r'^b.+', 'b')"
   ]
  },
  {
   "cell_type": "code",
   "execution_count": 33,
   "id": "f4a4e7b4",
   "metadata": {},
   "outputs": [
    {
     "data": {
      "text/plain": [
       "<re.Match object; span=(0, 1), match='b'>"
      ]
     },
     "execution_count": 33,
     "metadata": {},
     "output_type": "execute_result"
    }
   ],
   "source": [
    "# + means 1 or more times\n",
    "re.search(r'^b.*', 'b')"
   ]
  },
  {
   "cell_type": "code",
   "execution_count": 35,
   "id": "a8d1f46f",
   "metadata": {},
   "outputs": [
    {
     "data": {
      "text/plain": [
       "<re.Match object; span=(0, 17), match='bananarama pajama'>"
      ]
     },
     "execution_count": 35,
     "metadata": {},
     "output_type": "execute_result"
    }
   ],
   "source": [
    "# .* finds the largest possible match\n",
    "# technical term is greedy\n",
    "re.search(r'^b.*', 'bananarama pajama')"
   ]
  },
  {
   "cell_type": "code",
   "execution_count": 38,
   "id": "b64466a0",
   "metadata": {},
   "outputs": [
    {
     "data": {
      "text/plain": [
       "<re.Match object; span=(0, 10), match='bananarama'>"
      ]
     },
     "execution_count": 38,
     "metadata": {},
     "output_type": "execute_result"
    }
   ],
   "source": [
    "# Match b then 1 or more alphanumerics for a word\n",
    "# \\w means any a-zAZ0-9_\n",
    "# + means 1 or more letters\n",
    "# when the pattern hits the \" \" before pajama, we're done\n",
    "re.search(r'^b\\w+', 'bananarama pajama')\n",
    "# space is not included in \\w, so it stops after bananarama"
   ]
  },
  {
   "cell_type": "code",
   "execution_count": 39,
   "id": "19575528",
   "metadata": {},
   "outputs": [
    {
     "data": {
      "text/plain": [
       "<re.Match object; span=(0, 2), match='be'>"
      ]
     },
     "execution_count": 39,
     "metadata": {},
     "output_type": "execute_result"
    }
   ],
   "source": [
    "# match b then 1 or more alphanumerics for a word\n",
    "re.search(r'^b\\w+', 'be cool')"
   ]
  },
  {
   "cell_type": "code",
   "execution_count": 40,
   "id": "850a59f3",
   "metadata": {},
   "outputs": [
    {
     "data": {
      "text/plain": [
       "<re.Match object; span=(0, 1), match='b'>"
      ]
     },
     "execution_count": 40,
     "metadata": {},
     "output_type": "execute_result"
    }
   ],
   "source": [
    "#match b then 1 or more alphanumerics for a word\n",
    "re.search(r'^b\\w*', 'b cool')"
   ]
  },
  {
   "cell_type": "code",
   "execution_count": 41,
   "id": "a8722f06",
   "metadata": {},
   "outputs": [
    {
     "data": {
      "text/plain": [
       "<re.Match object; span=(0, 10), match='bananarama'>"
      ]
     },
     "execution_count": 41,
     "metadata": {},
     "output_type": "execute_result"
    }
   ],
   "source": [
    "# .* largest possible match\n",
    "re.search(r'^b\\w*\\b', 'bananarama pajama')"
   ]
  },
  {
   "cell_type": "code",
   "execution_count": null,
   "id": "7c60d7d5",
   "metadata": {},
   "outputs": [],
   "source": [
    "# \\b is a word boundary (white space, comma, period, hyphen, etc)"
   ]
  },
  {
   "cell_type": "code",
   "execution_count": 43,
   "id": "d35162e8",
   "metadata": {},
   "outputs": [
    {
     "data": {
      "text/plain": [
       "<re.Match object; span=(0, 2), match='ba'>"
      ]
     },
     "execution_count": 43,
     "metadata": {},
     "output_type": "execute_result"
    }
   ],
   "source": [
    "#match the character b then any other character\n",
    "re.search(r'b.', 'bananarama pajama')"
   ]
  },
  {
   "cell_type": "code",
   "execution_count": 44,
   "id": "5cba4ba2",
   "metadata": {},
   "outputs": [
    {
     "data": {
      "text/plain": [
       "<re.Match object; span=(0, 2), match='ba'>"
      ]
     },
     "execution_count": 44,
     "metadata": {},
     "output_type": "execute_result"
    }
   ],
   "source": [
    "#match the character b then any alphanumeric character\n",
    "re.search(r'b\\w', 'bananarama pajama')"
   ]
  },
  {
   "cell_type": "code",
   "execution_count": 46,
   "id": "644724f0",
   "metadata": {},
   "outputs": [
    {
     "data": {
      "text/plain": [
       "<re.Match object; span=(0, 4), match='bana'>"
      ]
     },
     "execution_count": 46,
     "metadata": {},
     "output_type": "execute_result"
    }
   ],
   "source": [
    "#match b followed by 3 of any alphanumeric character\n",
    "re.search(r'^b\\w\\w\\w', 'bananarama pajama')"
   ]
  },
  {
   "cell_type": "code",
   "execution_count": 47,
   "id": "05ba0dc7",
   "metadata": {},
   "outputs": [
    {
     "data": {
      "text/plain": [
       "<re.Match object; span=(0, 4), match='bana'>"
      ]
     },
     "execution_count": 47,
     "metadata": {},
     "output_type": "execute_result"
    }
   ],
   "source": [
    "re.search(r'b.{3}', 'bananarama pajama')"
   ]
  },
  {
   "cell_type": "code",
   "execution_count": 50,
   "id": "006f72f8",
   "metadata": {},
   "outputs": [
    {
     "data": {
      "text/plain": [
       "'bana'"
      ]
     },
     "execution_count": 50,
     "metadata": {},
     "output_type": "execute_result"
    }
   ],
   "source": [
    "## {} tells to repeat the previous character n amount of times\n",
    "re.search(r'b\\w{3}', 'bananarama pajama').group() #.group gives us the match back"
   ]
  },
  {
   "cell_type": "code",
   "execution_count": 51,
   "id": "3dccb6c8",
   "metadata": {},
   "outputs": [
    {
     "data": {
      "text/plain": [
       "<re.Match object; span=(1, 2), match='a'>"
      ]
     },
     "execution_count": 51,
     "metadata": {},
     "output_type": "execute_result"
    }
   ],
   "source": [
    "# [^abc] as \"anything that aint a or b or c\"\n",
    "re.search(r'[^b]', 'bananarama pajama')\n",
    "#brackets---anything inside that, it needs to meet that specification"
   ]
  },
  {
   "cell_type": "code",
   "execution_count": 55,
   "id": "63178001",
   "metadata": {},
   "outputs": [
    {
     "data": {
      "text/plain": [
       "<re.Match object; span=(1, 17), match='ananarama pajama'>"
      ]
     },
     "execution_count": 55,
     "metadata": {},
     "output_type": "execute_result"
    }
   ],
   "source": [
    "re.search(r'[^b].*', 'bananarama pajama')"
   ]
  },
  {
   "cell_type": "code",
   "execution_count": 57,
   "id": "44af5e7b",
   "metadata": {},
   "outputs": [
    {
     "data": {
      "text/plain": [
       "<re.Match object; span=(0, 23), match='apple bananarama pajama'>"
      ]
     },
     "execution_count": 57,
     "metadata": {},
     "output_type": "execute_result"
    }
   ],
   "source": [
    "#lets find something that starts with a then has any number of other character\n",
    "re.search(r'^a.*', 'apple bananarama pajama')"
   ]
  },
  {
   "cell_type": "code",
   "execution_count": 62,
   "id": "604c1d3d",
   "metadata": {},
   "outputs": [
    {
     "data": {
      "text/plain": [
       "<re.Match object; span=(0, 17), match='bananarama pajama'>"
      ]
     },
     "execution_count": 62,
     "metadata": {},
     "output_type": "execute_result"
    }
   ],
   "source": [
    "#starts with b\n",
    "# anything\n",
    "# ends with a\n",
    "re.search(r'^b.*a$', 'bananarama pajama')"
   ]
  },
  {
   "cell_type": "code",
   "execution_count": 63,
   "id": "96fa5e7e",
   "metadata": {},
   "outputs": [
    {
     "data": {
      "text/plain": [
       "<re.Match object; span=(0, 4), match='abc1'>"
      ]
     },
     "execution_count": 63,
     "metadata": {},
     "output_type": "execute_result"
    }
   ],
   "source": [
    "# \\w matches [a-zA-Z0-9_]\n",
    "re.search(r'\\w{4}', 'abc123')"
   ]
  },
  {
   "cell_type": "code",
   "execution_count": 65,
   "id": "4057d61d",
   "metadata": {},
   "outputs": [
    {
     "data": {
      "text/plain": [
       "<re.Match object; span=(0, 4), match='abc1'>"
      ]
     },
     "execution_count": 65,
     "metadata": {},
     "output_type": "execute_result"
    }
   ],
   "source": [
    "# \\w matches [a-zA-Z0-9_]\n",
    "re.search(r'\\w{1,4}', 'abc123') #this means at least one, up to 4"
   ]
  },
  {
   "cell_type": "code",
   "execution_count": 66,
   "id": "6841ee7f",
   "metadata": {},
   "outputs": [
    {
     "data": {
      "text/plain": [
       "<re.Match object; span=(0, 1), match='F'>"
      ]
     },
     "execution_count": 66,
     "metadata": {},
     "output_type": "execute_result"
    }
   ],
   "source": [
    "# + metacharacter matches 1 or more of the pattern to the left of that + character\n",
    "# + is greedy like *\n",
    "re.search(r'f|F+', 'Fred asked a good question')"
   ]
  },
  {
   "cell_type": "code",
   "execution_count": 67,
   "id": "0db0fd8c",
   "metadata": {},
   "outputs": [
    {
     "data": {
      "text/plain": [
       "<re.Match object; span=(0, 26), match='Fred asked a good question'>"
      ]
     },
     "execution_count": 67,
     "metadata": {},
     "output_type": "execute_result"
    }
   ],
   "source": [
    "re.search(r'f|F.*', 'Fred asked a good question')"
   ]
  },
  {
   "cell_type": "code",
   "execution_count": 71,
   "id": "143ea1cb",
   "metadata": {},
   "outputs": [
    {
     "data": {
      "text/plain": [
       "<re.Match object; span=(0, 5), match='stuff'>"
      ]
     },
     "execution_count": 71,
     "metadata": {},
     "output_type": "execute_result"
    }
   ],
   "source": [
    "# what if we want only letters and not letters + numbers _ character\n",
    "re.search(r'[a-zA-Z]*', 'stuff and things and 123')"
   ]
  },
  {
   "cell_type": "code",
   "execution_count": 72,
   "id": "5c67a432",
   "metadata": {},
   "outputs": [
    {
     "data": {
      "text/plain": [
       "['stuff', 'a', 'nd', 'things', 'and']"
      ]
     },
     "execution_count": 72,
     "metadata": {},
     "output_type": "execute_result"
    }
   ],
   "source": [
    "# what if we want only letters and not letters + numbers _ character\n",
    "#the [a-z]+ is finding any and all sequeces that are only [a-zA-Z]\n",
    "re.findall(r'[a-zA-Z]+', '42 $stuff a****nd things and 123')"
   ]
  },
  {
   "cell_type": "markdown",
   "id": "6db4b2e0",
   "metadata": {},
   "source": [
    "### Difference between * and +"
   ]
  },
  {
   "cell_type": "code",
   "execution_count": 78,
   "id": "63dcf87f",
   "metadata": {},
   "outputs": [
    {
     "data": {
      "text/plain": [
       "<re.Match object; span=(42, 46), match='Fred'>"
      ]
     },
     "execution_count": 78,
     "metadata": {},
     "output_type": "execute_result"
    }
   ],
   "source": [
    "#Match F and one or more of a a-zA-Z0-9 character\n",
    "#Does not match F on its own\n",
    "re.search(r'F\\w+', 'F money asked a great question. Great job Fred')"
   ]
  },
  {
   "cell_type": "code",
   "execution_count": 79,
   "id": "9ebfeaa3",
   "metadata": {},
   "outputs": [
    {
     "data": {
      "text/plain": [
       "<re.Match object; span=(0, 1), match='F'>"
      ]
     },
     "execution_count": 79,
     "metadata": {},
     "output_type": "execute_result"
    }
   ],
   "source": [
    "#Match F then zero or more of a-zA-Z0-9\n",
    "re.search(r'F\\w*', 'F money asked a great question. Great job Fred')"
   ]
  },
  {
   "cell_type": "code",
   "execution_count": 81,
   "id": "3124288a",
   "metadata": {},
   "outputs": [
    {
     "data": {
      "text/plain": [
       "['abc123', 'is', 'the', 'place', 'to', 'be']"
      ]
     },
     "execution_count": 81,
     "metadata": {},
     "output_type": "execute_result"
    }
   ],
   "source": [
    "# {n,} matches n or more times CHECK THE COMMA IN THE BRACKETS\n",
    "re.findall(r'\\w{1,}', 'abc123 is the place to be')"
   ]
  },
  {
   "cell_type": "code",
   "execution_count": 83,
   "id": "b0998005",
   "metadata": {},
   "outputs": [
    {
     "data": {
      "text/plain": [
       "['abc', 'is', 'the', 'place', 'to', 'be']"
      ]
     },
     "execution_count": 83,
     "metadata": {},
     "output_type": "execute_result"
    }
   ],
   "source": [
    "# {n,} matches n or more times\n",
    "# \\w+ means one or more alphanumerics\n",
    "# \\w{1,} means the same thing\n",
    "re.findall(r'[a-zA-Z]+', 'abc123 is the place to be')"
   ]
  },
  {
   "cell_type": "code",
   "execution_count": 86,
   "id": "59ef6216",
   "metadata": {},
   "outputs": [
    {
     "data": {
      "text/plain": [
       "<re.Match object; span=(0, 8), match='574-5860'>"
      ]
     },
     "execution_count": 86,
     "metadata": {},
     "output_type": "execute_result"
    }
   ],
   "source": [
    "# 3 digits then a single character of anything then 4 digits\n",
    "re.search(r'\\d{3}.\\d{4}', '574-5860')"
   ]
  },
  {
   "cell_type": "code",
   "execution_count": 87,
   "id": "8919b036",
   "metadata": {},
   "outputs": [
    {
     "data": {
      "text/plain": [
       "<re.Match object; span=(0, 7), match='5745860'>"
      ]
     },
     "execution_count": 87,
     "metadata": {},
     "output_type": "execute_result"
    }
   ],
   "source": [
    "#What if the delimiter is optional?\n",
    "# Question mark metacharacter means the thing to the left of the ? is optional?\n",
    "re.search(r'\\d{3}.?\\d{4}', '5745860')\n",
    "# Question mark looks at whatever phrase is in front of it and says \"its optional\""
   ]
  },
  {
   "cell_type": "markdown",
   "id": "5a03004e",
   "metadata": {},
   "source": [
    "### Using a REGEX pattern to split"
   ]
  },
  {
   "cell_type": "code",
   "execution_count": 89,
   "id": "06c95e80",
   "metadata": {},
   "outputs": [
    {
     "data": {
      "text/plain": [
       "['555', '555', '5555']"
      ]
     },
     "execution_count": 89,
     "metadata": {},
     "output_type": "execute_result"
    }
   ],
   "source": [
    "\"555-555-5555\".split('-')"
   ]
  },
  {
   "cell_type": "code",
   "execution_count": 90,
   "id": "06e1ae27",
   "metadata": {},
   "outputs": [
    {
     "data": {
      "text/plain": [
       "['555', '555', '5555']"
      ]
     },
     "execution_count": 90,
     "metadata": {},
     "output_type": "execute_result"
    }
   ],
   "source": [
    "#Split the phone number on the hyphen\n",
    "re.split(r'-', '555-555-5555')"
   ]
  },
  {
   "cell_type": "code",
   "execution_count": 91,
   "id": "28c0770b",
   "metadata": {},
   "outputs": [
    {
     "data": {
      "text/plain": [
       "['555', '555', '5555']"
      ]
     },
     "execution_count": 91,
     "metadata": {},
     "output_type": "execute_result"
    }
   ],
   "source": [
    "#Split the phone number on the hyphen and spaces\n",
    "re.split(r'-| ', '555-555-5555')"
   ]
  },
  {
   "cell_type": "code",
   "execution_count": null,
   "id": "6eaae0ca",
   "metadata": {},
   "outputs": [],
   "source": [
    "#Splits the string on the space character\n"
   ]
  },
  {
   "cell_type": "markdown",
   "id": "97997bf8",
   "metadata": {},
   "source": [
    "### [Character Classes]\n",
    "- Square brackets make character classes\n",
    "- Character classes provide OR behavior\n",
    "- In a character class, ^ works as a \"None of\" operator\n",
    "- Metacharacters match their literal character when inside of square brackets for a character class"
   ]
  },
  {
   "cell_type": "code",
   "execution_count": 92,
   "id": "06f4d005",
   "metadata": {},
   "outputs": [
    {
     "data": {
      "text/plain": [
       "<re.Match object; span=(1, 2), match='a'>"
      ]
     },
     "execution_count": 92,
     "metadata": {},
     "output_type": "execute_result"
    }
   ],
   "source": [
    "# has a vowel, anywhere\n",
    "re.search(r'[aeiou]', 'banana')"
   ]
  },
  {
   "cell_type": "code",
   "execution_count": 94,
   "id": "c8457833",
   "metadata": {},
   "outputs": [
    {
     "data": {
      "text/plain": [
       "['gray', 'grey']"
      ]
     },
     "execution_count": 94,
     "metadata": {},
     "output_type": "execute_result"
    }
   ],
   "source": [
    "# Gray or grey\n",
    "re.findall(r'gr[a|e]y', 'some people spell it gray, some spell it grey')"
   ]
  },
  {
   "cell_type": "code",
   "execution_count": 96,
   "id": "e08156fb",
   "metadata": {},
   "outputs": [
    {
     "data": {
      "text/plain": [
       "<re.Match object; span=(1, 2), match='a'>"
      ]
     },
     "execution_count": 96,
     "metadata": {},
     "output_type": "execute_result"
    }
   ],
   "source": [
    "#is only a single vowel\n",
    "re.search(r'[aeiou]{1}', 'la la la la la')"
   ]
  },
  {
   "cell_type": "code",
   "execution_count": 97,
   "id": "ef6acd82",
   "metadata": {},
   "outputs": [
    {
     "data": {
      "text/plain": [
       "<re.Match object; span=(0, 6), match='aeioai'>"
      ]
     },
     "execution_count": 97,
     "metadata": {},
     "output_type": "execute_result"
    }
   ],
   "source": [
    "# is only vowels\n",
    "re.search(r'^[aeiou]*$', 'aeioai')"
   ]
  },
  {
   "cell_type": "markdown",
   "id": "7668e7d5",
   "metadata": {},
   "source": [
    "### Groups"
   ]
  },
  {
   "cell_type": "code",
   "execution_count": 99,
   "id": "5f49d288",
   "metadata": {},
   "outputs": [
    {
     "data": {
      "text/plain": [
       "'You can find us on the web at https://codeup.com. Our ip address is 123.123.123.123 (maybe).'"
      ]
     },
     "execution_count": 99,
     "metadata": {},
     "output_type": "execute_result"
    }
   ],
   "source": [
    "sentence = 'You can find us on the web at https://codeup.com. Our ip address is 123.123.123.123 (maybe).'\n",
    "sentence"
   ]
  },
  {
   "cell_type": "code",
   "execution_count": null,
   "id": "d5b8bb21",
   "metadata": {},
   "outputs": [],
   "source": [
    "# Parenthesis is capture group"
   ]
  },
  {
   "cell_type": "code",
   "execution_count": 100,
   "id": "f82bcf7e",
   "metadata": {},
   "outputs": [],
   "source": [
    "#Simplified for demonstration\n",
    "# simplified for demonstration, a real url to parse urls would be much more\n",
    "# complex\n",
    "url_re = r'(https?)://(\\w+)\\.(\\w+)' #? means optional, \\. means actual dot"
   ]
  },
  {
   "cell_type": "code",
   "execution_count": 101,
   "id": "3aea343d",
   "metadata": {},
   "outputs": [
    {
     "name": "stdout",
     "output_type": "stream",
     "text": [
      "\n",
      "protocol: https\n",
      "domain:   codeup\n",
      "tld:      com\n",
      "\n"
     ]
    }
   ],
   "source": [
    "protocol, domain, tld = re.search(url_re, sentence).groups() #.groups creates an output\n",
    "\n",
    "print(f'''\n",
    "protocol: {protocol}\n",
    "domain:   {domain}\n",
    "tld:      {tld}\n",
    "''')"
   ]
  },
  {
   "cell_type": "code",
   "execution_count": null,
   "id": "d124edf0",
   "metadata": {},
   "outputs": [],
   "source": []
  }
 ],
 "metadata": {
  "kernelspec": {
   "display_name": "Python 3 (ipykernel)",
   "language": "python",
   "name": "python3"
  },
  "language_info": {
   "codemirror_mode": {
    "name": "ipython",
    "version": 3
   },
   "file_extension": ".py",
   "mimetype": "text/x-python",
   "name": "python",
   "nbconvert_exporter": "python",
   "pygments_lexer": "ipython3",
   "version": "3.9.15"
  }
 },
 "nbformat": 4,
 "nbformat_minor": 5
}
