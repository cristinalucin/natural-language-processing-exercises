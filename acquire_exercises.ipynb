{
 "cells": [
  {
   "cell_type": "markdown",
   "id": "df0041cd-12e5-437a-beec-db82be034b1a",
   "metadata": {},
   "source": [
    "# Data Acquisition \n",
    "\n",
    "## Imports"
   ]
  },
  {
   "cell_type": "code",
   "execution_count": 1,
   "id": "d980cdfc-640d-40d0-9fb8-e152d0333af3",
   "metadata": {},
   "outputs": [],
   "source": [
    "from requests import get\n",
    "from bs4 import BeautifulSoup\n",
    "import os\n",
    "import pandas as pd"
   ]
  },
  {
   "cell_type": "markdown",
   "id": "1807b132-84dc-4d3f-8383-91f0745cc386",
   "metadata": {},
   "source": [
    "## Codeup Blog Articles\n",
    "\n",
    "Visit Codeup's Blog and record the urls for at least 5 distinct blog posts. For each post, you should scrape at least the post's title and content.\n",
    "\n",
    "Encapsulate your work in a function named get_blog_articles that will return a list of dictionaries, with each dictionary representing one article. The shape of each dictionary should look like this:\n",
    "\n",
    "```python\n",
    "{\n",
    "    'title': 'the title of the article',\n",
    "    'content': 'the full text content of the article'\n",
    "}\n",
    "```\n",
    "\n",
    "Plus any additional properties you think might be helpful.\n",
    "\n"
   ]
  },
  {
   "cell_type": "code",
   "execution_count": 2,
   "id": "9a57ee98-f38b-462b-8c5e-a0638eb9f826",
   "metadata": {},
   "outputs": [],
   "source": [
    "url = 'https://codeup.com/blog/'\n",
    "headers = {'User-Agent': 'Codeup Data Science'}\n",
    "response = get(url, headers=headers)"
   ]
  },
  {
   "cell_type": "code",
   "execution_count": 3,
   "id": "0cf58ea7-ab1c-41f3-9ac5-a407f14a6f69",
   "metadata": {},
   "outputs": [],
   "source": [
    "soup = BeautifulSoup(response.content, 'html.parser')"
   ]
  },
  {
   "cell_type": "markdown",
   "id": "c07e0ebb",
   "metadata": {},
   "source": [
    "### class='more-link' is one way to get access to each article link"
   ]
  },
  {
   "cell_type": "code",
   "execution_count": 4,
   "id": "1b29fc5c-3e20-4ccc-9171-41114b4d5283",
   "metadata": {
    "scrolled": true
   },
   "outputs": [
    {
     "data": {
      "text/plain": [
       "[<a class=\"more-link\" href=\"https://codeup.com/data-science/become-a-data-scientist/\">read more</a>,\n",
       " <a class=\"more-link\" href=\"https://codeup.com/employers/hiring-tech-talent/\">read more</a>,\n",
       " <a class=\"more-link\" href=\"https://codeup.com/cloud-administration/cap-funding-options/\">read more</a>,\n",
       " <a class=\"more-link\" href=\"https://codeup.com/dallas-info/it-professionals-dallas/\">read more</a>,\n",
       " <a class=\"more-link\" href=\"https://codeup.com/codeup-news/codeup-voted-1-technical-school-in-dfw/\">read more</a>,\n",
       " <a class=\"more-link\" href=\"https://codeup.com/tips-for-prospective-students/financing/codeups-scholarships/\">read more</a>]"
      ]
     },
     "execution_count": 4,
     "metadata": {},
     "output_type": "execute_result"
    }
   ],
   "source": [
    "soup.select('.more-link') #soup.find_all('a', class_='more-link')"
   ]
  },
  {
   "cell_type": "code",
   "execution_count": 5,
   "id": "127040c2-11b6-44d1-9721-dd34ccc84703",
   "metadata": {},
   "outputs": [
    {
     "data": {
      "text/plain": [
       "<a class=\"more-link\" href=\"https://codeup.com/data-science/become-a-data-scientist/\">read more</a>"
      ]
     },
     "execution_count": 5,
     "metadata": {},
     "output_type": "execute_result"
    }
   ],
   "source": [
    "soup.select('.more-link')[0]"
   ]
  },
  {
   "cell_type": "code",
   "execution_count": 6,
   "id": "cf6b3fff-1ef7-461e-9398-198cdb192704",
   "metadata": {},
   "outputs": [
    {
     "data": {
      "text/plain": [
       "'https://codeup.com/data-science/become-a-data-scientist/'"
      ]
     },
     "execution_count": 6,
     "metadata": {},
     "output_type": "execute_result"
    }
   ],
   "source": [
    "soup.select('.more-link')[0]['href']"
   ]
  },
  {
   "cell_type": "markdown",
   "id": "e866e66c-07ea-4bba-b6c6-903769771ec1",
   "metadata": {},
   "source": [
    "### List comprehension review"
   ]
  },
  {
   "cell_type": "code",
   "execution_count": 7,
   "id": "cc765b15-bd4d-4cb9-93d4-9acc7a7f3ad2",
   "metadata": {},
   "outputs": [
    {
     "data": {
      "text/plain": [
       "[1, 2, 3, 4, 5, 6, 7, 8, 9, 10]"
      ]
     },
     "execution_count": 7,
     "metadata": {},
     "output_type": "execute_result"
    }
   ],
   "source": [
    "[n for n in range(1, 11)]"
   ]
  },
  {
   "cell_type": "markdown",
   "id": "4c5a78f7-dea7-4b40-8999-38ddad472454",
   "metadata": {},
   "source": [
    "### Using list comprehension to get all the links out"
   ]
  },
  {
   "cell_type": "code",
   "execution_count": 8,
   "id": "a6a146c0-1ce6-4763-b8ec-3f477bcdbc38",
   "metadata": {},
   "outputs": [
    {
     "data": {
      "text/plain": [
       "['https://codeup.com/data-science/become-a-data-scientist/',\n",
       " 'https://codeup.com/employers/hiring-tech-talent/',\n",
       " 'https://codeup.com/cloud-administration/cap-funding-options/',\n",
       " 'https://codeup.com/dallas-info/it-professionals-dallas/',\n",
       " 'https://codeup.com/codeup-news/codeup-voted-1-technical-school-in-dfw/',\n",
       " 'https://codeup.com/tips-for-prospective-students/financing/codeups-scholarships/']"
      ]
     },
     "execution_count": 8,
     "metadata": {},
     "output_type": "execute_result"
    }
   ],
   "source": [
    "links = [link['href'] for link in soup.select('.more-link')]\n",
    "links"
   ]
  },
  {
   "cell_type": "markdown",
   "id": "617683ff-e87a-497a-8048-428a0aa46017",
   "metadata": {},
   "source": [
    "### Get title and content from article"
   ]
  },
  {
   "cell_type": "code",
   "execution_count": 9,
   "id": "070f08bb-6584-40b9-a2cd-bf64c23daa07",
   "metadata": {},
   "outputs": [],
   "source": [
    "url = links[0]\n",
    "response = get(url, headers=headers)\n",
    "soup = BeautifulSoup(response.text)"
   ]
  },
  {
   "cell_type": "code",
   "execution_count": 10,
   "id": "929b753f-e696-4722-a5f2-03f9d76cf9bd",
   "metadata": {},
   "outputs": [
    {
     "data": {
      "text/plain": [
       "'Become a Data Scientist in 6 Months!'"
      ]
     },
     "execution_count": 10,
     "metadata": {},
     "output_type": "execute_result"
    }
   ],
   "source": [
    "soup.find('h1', class_='entry-title').text"
   ]
  },
  {
   "cell_type": "code",
   "execution_count": 13,
   "id": "8a73152e-5a3f-4c95-bf53-50c3b64ca837",
   "metadata": {},
   "outputs": [
    {
     "data": {
      "text/plain": [
       "'Are you feeling unfulfilled in your work but want to avoid returning to the traditional educational route? Codeup can help! Starting over as a professional is daunting and not always ideal. Codeup can help you go from a career you are bored with, to a job that excites you in just 6 months!\\nHere’s how…\\nData Science Program\\nDuring our 20-week program, you will have the opportunity to take your career to new heights with data science being one of the most needed jobs in tech.\\nYou’ll gather data, then clean it, explore it for trends, and apply machine learning models to make predictions.\\nUpon completing this program, you will know how to turn insights into actionable recommendations. You’ll be a huge asset to any company, having all the technical skills to become a data scientist with projects upon projects of experience under your belt.\\nCodeup\\nA common reason individuals opt not to change their careers is fear it is too late. Codeup has crafted a program that will guide you through your career transition and prove that you can jumpstart a new job at any age and experience level.\\nWhen you decide to attend Codeup, you get a support system. First, our admissions team will guide you through getting started as well as assist with getting your financial aid squared away.\\nOnce your program begins, you will have industry experts as your instructors who will help you reach your full potential and complete the program successfully.\\nNext, you will have a student experience team ready to assist you with navigating through the program and any of life’s obstacles that may arise.\\nFinally, you have a placement team to help you secure the job you’ll work so hard to land!\\n\\nIf you do not land a job within six months of completing a Codeup program, we will refund 100% of your paid tuition.\\nIf you aren’t sure if a career in data science is right for you, consider attending our 100% free instructor-led workshops. These workshops are designed to give you a taste of what you’ll learn in our programs, as well as give you information on financial aid and admissions.\\nWe can also provide program-specific information to your inbox at any time! Get started now or give us a call at (210) 802-7289 and we’ll walk you through the process.\\nJumpstart your tech career with the first and only accredited bootcamp in Texas!*\\n*Codeup is accredited for postsecondary, non-degree granting, career and technology programs by the Middle States Commission on Secondary Schools of the Middle States Association of Colleges and Schools, 3624 Market Street, Philadelphia, PA 19104, (267) 284-5000'"
      ]
     },
     "execution_count": 13,
     "metadata": {},
     "output_type": "execute_result"
    }
   ],
   "source": [
    "soup.find('div', class_='entry-content').text.strip()"
   ]
  },
  {
   "cell_type": "markdown",
   "id": "6dd601ed-2f70-4954-87ed-58a1403537f3",
   "metadata": {},
   "source": [
    "### Put it together"
   ]
  },
  {
   "cell_type": "code",
   "execution_count": 14,
   "id": "c085cc2a-6419-4693-adea-d7c292dcbf62",
   "metadata": {},
   "outputs": [],
   "source": [
    "url = 'https://codeup.com/blog/'\n",
    "headers = {'User-Agent': 'Codeup Data Science'}\n",
    "response = get(url, headers=headers)\n",
    "\n",
    "soup = BeautifulSoup(response.content, 'html.parser')\n",
    "\n",
    "links = [link['href'] for link in soup.select('.more-link')]\n",
    "\n",
    "articles = []\n",
    "\n",
    "for url in links:\n",
    "    \n",
    "    url_response = get(url, headers=headers)\n",
    "    soup = BeautifulSoup(url_response.text)\n",
    "    \n",
    "    title = soup.find('h1', class_='entry-title').text\n",
    "    content = soup.find('div', class_='entry-content').text.strip()\n",
    "    \n",
    "    article_dict = {\n",
    "        'title': title,\n",
    "        'content': content\n",
    "    }\n",
    "    \n",
    "    articles.append(article_dict)"
   ]
  },
  {
   "cell_type": "code",
   "execution_count": 15,
   "id": "71386668-2215-464e-8a94-8533ee0e0379",
   "metadata": {},
   "outputs": [
    {
     "data": {
      "text/plain": [
       "[{'title': 'Become a Data Scientist in 6 Months!',\n",
       "  'content': 'Are you feeling unfulfilled in your work but want to avoid returning to the traditional educational route? Codeup can help! Starting over as a professional is daunting and not always ideal. Codeup can help you go from a career you are bored with, to a job that excites you in just 6 months!\\nHere’s how…\\nData Science Program\\nDuring our 20-week program, you will have the opportunity to take your career to new heights with data science being one of the most needed jobs in tech.\\nYou’ll gather data, then clean it, explore it for trends, and apply machine learning models to make predictions.\\nUpon completing this program, you will know how to turn insights into actionable recommendations. You’ll be a huge asset to any company, having all the technical skills to become a data scientist with projects upon projects of experience under your belt.\\nCodeup\\nA common reason individuals opt not to change their careers is fear it is too late. Codeup has crafted a program that will guide you through your career transition and prove that you can jumpstart a new job at any age and experience level.\\nWhen you decide to attend Codeup, you get a support system. First, our admissions team will guide you through getting started as well as assist with getting your financial aid squared away.\\nOnce your program begins, you will have industry experts as your instructors who will help you reach your full potential and complete the program successfully.\\nNext, you will have a student experience team ready to assist you with navigating through the program and any of life’s obstacles that may arise.\\nFinally, you have a placement team to help you secure the job you’ll work so hard to land!\\n\\nIf you do not land a job within six months of completing a Codeup program, we will refund 100% of your paid tuition.\\nIf you aren’t sure if a career in data science is right for you, consider attending our 100% free instructor-led workshops. These workshops are designed to give you a taste of what you’ll learn in our programs, as well as give you information on financial aid and admissions.\\nWe can also provide program-specific information to your inbox at any time! Get started now or give us a call at (210) 802-7289 and we’ll walk you through the process.\\nJumpstart your tech career with the first and only accredited bootcamp in Texas!*\\n*Codeup is accredited for postsecondary, non-degree granting, career and technology programs by the Middle States Commission on Secondary Schools of the Middle States Association of Colleges and Schools, 3624 Market Street, Philadelphia, PA 19104, (267) 284-5000'},\n",
       " {'title': 'Hiring Tech Talent Around the Holidays',\n",
       "  'content': 'Are you a hiring manager having trouble filling an IT position around the holidays? Codeup has a solution for hiring tech talent year round.\\nBoth job seekers and employers can run into obstacles when attempting to find and fill open roles around the holidays. When accounting for company closures, year end activities and vacations, hiring processes tend to slow.\\nCodeup\\nCodeup is the first accredited* tech bootcamp in Texas. Our program offerings include Full-Stack Web Development, Data Science and Cloud Administration. In 6 months or less, we produce quality tech talent well-equipped to enter the workforce.\\nHire our Grads\\nThere is a common misconception that coding bootcamp graduates are not trained well enough to perform at high standards. Codeup works daily to ensure the quality of education we are delivering is nothing shy of excellent to debunk this belief.\\nCodeup is currently the only accredited tech bootcamp in Texas. With accreditation comes a high caliber of educational expectations that we must deliver. Our graduates come with experience gained from hands-on intensive training from industry experts. Consider hiring our graduates because they are capable of meeting your needs.\\nBecome an Employer Partner\\nHiring a Codeup grad is free. There are no strings attached. Our promise to our students is to give them placement assistance to land their next position in-field.\\nOur placement team works to constantly build our network of employer partners. Employer partners are companies that hire for tech talent. These partners stay connected with Codeup year round to potentially hire students from multiple cohorts from either our San Antonio, TX or Dallas, TX campuses.\\nA few of our current employer partners include: H-E-B, USAA, Whole Foods Market, Oracle, Accenture and many more.\\nBecome an employer partner today to start hiring! Take a look at our Alumni Portal to view graduates looking for work and their resumes.\\nProspective Students\\nCodeup is a great place to launch your career in tech! We are the first and currently the only accredited tech bootcamp in Texas!\\nWe also offer a tuition refund guarantee which states that if a student does not find a job within 6 months of completing a Codeup program, we will issue a full refund on paid tuition.\\nIf you aren’t sure if a career in tech is right for you, consider attending our 100% free instructor-led workshops. These workshops are designed to give you a taste of what you’ll learn in our programs, as well as give you information on financial aid and admissions.\\nWe can also provide program-specific information to your inbox at any time! Get started now or give us a call at (210) 802-7289 and we’ll walk you through the process. We’d love to hear from you!\\n*Codeup is accredited for postsecondary, non-degree granting, career and technology programs by the Middle States Commission on Secondary Schools of the Middle States Association of Colleges and Schools, 3624 Market Street, Philadelphia, PA 19104, (267) 284-5000'},\n",
       " {'title': 'Cloud Administration Program New Funding Options',\n",
       "  'content': 'Finding resources to fund your educational goals is possibly the largest obstacle students face when pursuing higher education.\\nCodeup offers a variety of funding options to select from, and most recently our Cloud Administration program has become eligible for GI Bill and VR&E funding.\\nCodeup Program\\nCodeup’s Cloud Administration program is a full-time 15-week course designed to prepare students for two AWS certifications: AWS Cloud Practitioner and AWS Solutions Architect Associate.\\nThroughout the program you’ll learn to build infrastructure that enables software and data science products, manage cloud deployments and optimize for cloud performance. With instruction from industry experts, upon successful completion of the program, you’ll be prepared for an entry-level position in the cloud.\\nNew Funding Options\\nCodeup’s Cloud Administration program has historically allowed you to select payment options utilizing grants, loans, scholarships, VA Benefits and self-pay. In addition to these options, we now accept GI Bill chapters 33 and 35 as well as VR&E services.\\nGI Bill Chapter 33\\nThe post- 9/11 GI Bill (Chapter 33) provides financial assistance for schooling or job training. Active duty service members beginning September 10, 2001 onward may be eligible for this benefit. Check your eligibility today.\\nGI Bill Chapter 35\\nDependents of Veterans or service members with special circumstances may be eligible for financial assistance for schooling or job training through the DEA program. Check your eligibility today.\\nVR&E Assistance Chapter 31\\nVeterans and family members may be eligible for Veteran Readiness and Employment services (formerly known as Vocational Rehabilitation and Employment). This will provide assistance with job training, education, employment accommodations, resume development and job seeking skills coaching. Apply here.\\nCodeup is a great place to launch your career in tech! We are the first and currently the only accredited bootcamp in Texas!\\nIf you aren’t sure if a career in tech is right for you, consider attending our 100% free instructor-led workshops. These workshops are designed to give you a taste of what you’ll learn in our programs, as well as give you information on financial aid and admissions.\\nWe can also provide program-specific information to your inbox at any time! Get started now or give us a call at (210) 802-7289 and we’ll walk you through the process.\\n*Codeup is accredited for postsecondary, non-degree granting, career and technology programs by the Middle States Commission on Secondary Schools of the Middle States Association of Colleges and Schools, 3624 Market Street, Philadelphia, PA 19104, (267) 284-5000'},\n",
       " {'title': 'Why Dallas is a Great Location for IT Professionals',\n",
       "  'content': 'When breaking into a new career, it is important to explore the job opportunities that exist in your area. A common misconception with tech careers is that the prospect of success is only possible in big cities with a long reputation of successful tech companies. Today we will discuss how Dallas, TX is a major tech hub with enormous potential for success, as the home of the state’s biggest tech workforce.\\nDFW\\nThroughout the years, the tech community across the country has seen a drop in new jobs and tech company growth. The Dallas Fort Worth area has done remarkably well with maintaining its top status for new job postings even through the weak points the field has been facing.\\nAccording to CompTIA, Dallas has held onto their number three position for month-to-month new job postings following Washington D.C. and New York City. For the month of June in 2022, the DFW area had almost 28,000 new jobs listed.\\nTop DFW Tech Companies\\nThe following companies have a history of regularly hiring IT professionals in the DFW area.\\n\\nLockheed Martin\\nJPMorgan Chase\\nUSAA\\nCiti\\nDeloitte\\nVerizon\\nWells Fargo\\nIBM\\nNTT Data\\nInfoVision\\n\\nThese companies reflect a portion of the tech career opportunities in Dallas. Positions for all levels are also available in such a quickly evolving field.\\nHow to Start\\nCodeup is a great place to launch your career in tech! We area career accelerator that helps individuals quickly and seamlessly transition into a new career in tech.\\nOur Dallas location offers a Web Development bootcamp with a 20-week completion time.\\nCodeup is the first and currently the only accredited coding bootcamp in the state of Texas.* We have also been named the best trade/technical school in the DFW area by locals.\\nIf you aren’t sure if a career in tech is right for you, consider attending our 100% free instructor-led workshops. These workshops are designed to give you a taste of what you’ll learn in our programs, as well as give you information on financial aid and admissions.\\nWe can also provide program-specific information to your inbox at any time! Get started now or give us a call at (210) 802-7289 and we’ll walk you through the process.\\n*Codeup is accredited for postsecondary, non-degree granting, career and technology programs by the Middle States Commission on Secondary Schools of the Middle States Association of Colleges and Schools, 3624 Market Street, Philadelphia, PA 19104, (267) 284-5000'},\n",
       " {'title': 'Codeup is ranked #1 Best in DFW 2022',\n",
       "  'content': 'We are excited to announce that Codeup ranked #1 for Best Trade/Technical School in DFW!\\nClick here to see the Best in DFW announcement in the Dallas Morning News.\\nDetails on our Dallas campus and upcoming classes can be found here. We continue to look forward to empowering life change.\\nCodeup Dallas Campus\\n900 Jackson St Dallas, TX 75202'}]"
      ]
     },
     "execution_count": 15,
     "metadata": {},
     "output_type": "execute_result"
    }
   ],
   "source": [
    "articles[0:5]"
   ]
  },
  {
   "cell_type": "markdown",
   "id": "ce2d5b03-9208-4a17-9ef4-42cde93e6e06",
   "metadata": {},
   "source": [
    "### Put in df"
   ]
  },
  {
   "cell_type": "code",
   "execution_count": 16,
   "id": "a13cd2b4-3c17-4c0a-adab-1e40a578c280",
   "metadata": {},
   "outputs": [
    {
     "data": {
      "text/html": [
       "<div>\n",
       "<style scoped>\n",
       "    .dataframe tbody tr th:only-of-type {\n",
       "        vertical-align: middle;\n",
       "    }\n",
       "\n",
       "    .dataframe tbody tr th {\n",
       "        vertical-align: top;\n",
       "    }\n",
       "\n",
       "    .dataframe thead th {\n",
       "        text-align: right;\n",
       "    }\n",
       "</style>\n",
       "<table border=\"1\" class=\"dataframe\">\n",
       "  <thead>\n",
       "    <tr style=\"text-align: right;\">\n",
       "      <th></th>\n",
       "      <th>title</th>\n",
       "      <th>content</th>\n",
       "    </tr>\n",
       "  </thead>\n",
       "  <tbody>\n",
       "    <tr>\n",
       "      <th>0</th>\n",
       "      <td>Become a Data Scientist in 6 Months!</td>\n",
       "      <td>Are you feeling unfulfilled in your work but w...</td>\n",
       "    </tr>\n",
       "    <tr>\n",
       "      <th>1</th>\n",
       "      <td>Hiring Tech Talent Around the Holidays</td>\n",
       "      <td>Are you a hiring manager having trouble fillin...</td>\n",
       "    </tr>\n",
       "    <tr>\n",
       "      <th>2</th>\n",
       "      <td>Cloud Administration Program New Funding Options</td>\n",
       "      <td>Finding resources to fund your educational goa...</td>\n",
       "    </tr>\n",
       "    <tr>\n",
       "      <th>3</th>\n",
       "      <td>Why Dallas is a Great Location for IT Professi...</td>\n",
       "      <td>When breaking into a new career, it is importa...</td>\n",
       "    </tr>\n",
       "    <tr>\n",
       "      <th>4</th>\n",
       "      <td>Codeup is ranked #1 Best in DFW 2022</td>\n",
       "      <td>We are excited to announce that Codeup ranked ...</td>\n",
       "    </tr>\n",
       "    <tr>\n",
       "      <th>5</th>\n",
       "      <td>Codeup’s Scholarship Offerings</td>\n",
       "      <td>In honor of November being National Scholarshi...</td>\n",
       "    </tr>\n",
       "  </tbody>\n",
       "</table>\n",
       "</div>"
      ],
      "text/plain": [
       "                                               title  \\\n",
       "0               Become a Data Scientist in 6 Months!   \n",
       "1             Hiring Tech Talent Around the Holidays   \n",
       "2   Cloud Administration Program New Funding Options   \n",
       "3  Why Dallas is a Great Location for IT Professi...   \n",
       "4               Codeup is ranked #1 Best in DFW 2022   \n",
       "5                     Codeup’s Scholarship Offerings   \n",
       "\n",
       "                                             content  \n",
       "0  Are you feeling unfulfilled in your work but w...  \n",
       "1  Are you a hiring manager having trouble fillin...  \n",
       "2  Finding resources to fund your educational goa...  \n",
       "3  When breaking into a new career, it is importa...  \n",
       "4  We are excited to announce that Codeup ranked ...  \n",
       "5  In honor of November being National Scholarshi...  "
      ]
     },
     "execution_count": 16,
     "metadata": {},
     "output_type": "execute_result"
    }
   ],
   "source": [
    "blog_article_df = pd.DataFrame(articles)\n",
    "blog_article_df"
   ]
  },
  {
   "cell_type": "code",
   "execution_count": 17,
   "id": "ac91ae3a-cf01-49c0-bd48-679aa8b17853",
   "metadata": {},
   "outputs": [],
   "source": [
    "blog_article_df.to_csv('blog_articles.csv', index=False)"
   ]
  },
  {
   "cell_type": "markdown",
   "id": "bca4f940-a4d0-4137-a50d-eb2cdc33d2bb",
   "metadata": {},
   "source": [
    "## News Articles\n",
    "\n",
    "We will now be scraping text data from inshorts, a website that provides a brief overview of many different topics.\n",
    "\n",
    "Write a function that scrapes the news articles for the following topics:\n",
    "\n",
    "* Business\n",
    "* Sports\n",
    "* Technology\n",
    "* Entertainment\n",
    "\n",
    "The end product of this should be a function named get_news_articles that returns a list of dictionaries, where each dictionary has this shape:\n",
    "\n",
    "```python\n",
    "{\n",
    "    'title': 'The article title',\n",
    "    'content': 'The article content',\n",
    "    'category': 'business' # for example\n",
    "}\n",
    "```"
   ]
  },
  {
   "cell_type": "code",
   "execution_count": 18,
   "id": "ba22e38e-028b-4597-a814-8421d44c04fa",
   "metadata": {},
   "outputs": [],
   "source": [
    "url = 'https://inshorts.com/en/read'\n",
    "response = get(url)\n",
    "soup = BeautifulSoup(response.content, 'html.parser')"
   ]
  },
  {
   "cell_type": "markdown",
   "id": "9d546e96-5e96-488a-baff-54180c946cd6",
   "metadata": {},
   "source": [
    "### Get title"
   ]
  },
  {
   "cell_type": "code",
   "execution_count": 21,
   "id": "a06b3db9-f5b1-401c-9f56-bddb9128129e",
   "metadata": {},
   "outputs": [
    {
     "data": {
      "text/plain": [
       "\"Drunk man smoked in toilet, another peed on woman's blanket on Air India flight\""
      ]
     },
     "execution_count": 21,
     "metadata": {},
     "output_type": "execute_result"
    }
   ],
   "source": [
    "soup.find_all('span', itemprop='headline')[0].text"
   ]
  },
  {
   "cell_type": "markdown",
   "id": "f3e5e660-8128-47f3-9cdd-1abdce0c8455",
   "metadata": {},
   "source": [
    "### Get content"
   ]
  },
  {
   "cell_type": "code",
   "execution_count": 22,
   "id": "1c47f771-a85f-41b8-be8c-bf035793fefd",
   "metadata": {},
   "outputs": [
    {
     "data": {
      "text/plain": [
       "\"A drunk passenger smoked in the toilet on a Paris-Delhi Air India flight on December 6, the DGCA said. This is the same Paris-Delhi flight on which another drunk man urinated on a woman co-passenger's blanket when she went to the lavatory. Separately, Shankar Mishra was arrested for urinating on a woman on Air India's November 26 New York-Delhi flight.\""
      ]
     },
     "execution_count": 22,
     "metadata": {},
     "output_type": "execute_result"
    }
   ],
   "source": [
    "soup.find_all('div', itemprop='articleBody')[0].text"
   ]
  },
  {
   "cell_type": "markdown",
   "id": "981a5d30-ac99-489d-b4fa-08044f700527",
   "metadata": {},
   "source": [
    "### Get categories"
   ]
  },
  {
   "cell_type": "code",
   "execution_count": 23,
   "id": "3174329e-226f-4a7f-ad89-d26747884d23",
   "metadata": {},
   "outputs": [
    {
     "data": {
      "text/plain": [
       "['national',\n",
       " 'business',\n",
       " 'sports',\n",
       " 'world',\n",
       " 'politics',\n",
       " 'technology',\n",
       " 'startup',\n",
       " 'entertainment',\n",
       " 'miscellaneous',\n",
       " 'hatke',\n",
       " 'science',\n",
       " 'automobile']"
      ]
     },
     "execution_count": 23,
     "metadata": {},
     "output_type": "execute_result"
    }
   ],
   "source": [
    "categories = [li.text.lower() for li in soup.select('li')][1:]\n",
    "categories[0] = 'national'\n",
    "categories"
   ]
  },
  {
   "cell_type": "markdown",
   "id": "cebdf687-de01-4990-b279-bc0ee72e4252",
   "metadata": {},
   "source": [
    "### Put it together"
   ]
  },
  {
   "cell_type": "code",
   "execution_count": 24,
   "id": "4e7577cc-c938-462d-bc1d-9ba7e32bb7c1",
   "metadata": {},
   "outputs": [],
   "source": [
    "# catorgories = ['business', 'sports', 'technology', 'entertainment']\n",
    "categories = [li.text.lower() for li in soup.select('li')][1:]\n",
    "categories[0] = 'national'\n",
    "\n",
    "inshorts = []\n",
    "\n",
    "for category in categories:\n",
    "    \n",
    "    url = 'https://inshorts.com/en/read' + '/' + category\n",
    "    response = get(url)\n",
    "    soup = BeautifulSoup(response.content, 'html.parser')\n",
    "    \n",
    "    titles = [span.text for span in soup.find_all('span', itemprop='headline')]\n",
    "    contents = [div.text for div in soup.find_all('div', itemprop='articleBody')]\n",
    "    \n",
    "    for i in range(len(titles)):\n",
    "        \n",
    "        article = {\n",
    "            'title': titles[i],\n",
    "            'content': contents[i],\n",
    "            'category': category,\n",
    "        }\n",
    "        \n",
    "        inshorts.append(article)"
   ]
  },
  {
   "cell_type": "code",
   "execution_count": 25,
   "id": "781be619-772a-4a1f-8052-dcd940cfdf62",
   "metadata": {},
   "outputs": [
    {
     "data": {
      "text/plain": [
       "[{'title': \"Drunk man smoked in toilet, another peed on woman's blanket on Air India flight\",\n",
       "  'content': \"A drunk passenger smoked in the toilet on a Paris-Delhi Air India flight on December 6, the DGCA said. This is the same Paris-Delhi flight on which another drunk man urinated on a woman co-passenger's blanket when she went to the lavatory. Separately, Shankar Mishra was arrested for urinating on a woman on Air India's November 26 New York-Delhi flight.\",\n",
       "  'category': 'national'},\n",
       " {'title': 'Coaching centre run by Rajasthan paper leak case accused demolished in Jaipur',\n",
       "  'content': 'The Jaipur Development Authority (JDA) on Monday demolished a five-storey building of a coaching centre run by Suresh Dhaka, whose name appeared in the second-grade teacher recruitment examination paper leak case. The JDA found that the Adhigam Coaching Centre building was built in violation of laws. The coaching institute was served the notice twice, an official said.',\n",
       "  'category': 'national'},\n",
       " {'title': 'Temporary ban on BS-III petrol & BS-IV diesel cars in Delhi over severe AQI',\n",
       "  'content': 'The Delhi government has decided to impose a temporary ban on plying of BS-III petrol and BS-IV diesel four-wheelers in the national capital from Tuesday in view of severe air quality. \"The ban is likely to be in place till Friday. If the air quality improves, the ban could be lifted before Friday,\" a senior Transport Department official said.',\n",
       "  'category': 'national'},\n",
       " {'title': 'Joshimath divided into 3 zones, govt says most damaged buildings to be demolished',\n",
       "  'content': \"Uttarakhand's Joshimath, where a majority of buildings developed cracks, has been divided into three zones based on the magnitude of possible danger. RM Sundaram, Secretary to CM Pushkar Singh Dhami, said the town has been divided into 'danger', 'buffer' and 'completely safe' zones. Sundaram added that the buildings which have sustained the most damage will be demolished. \",\n",
       "  'category': 'national'},\n",
       " {'title': '4 dead, 10 hurt as bus hits truck amid dense fog on Agra-Lucknow Expressway',\n",
       "  'content': \"At least four people were killed after a speeding Lucknow-bound bus rammed into a stationary truck on the Agra-Lucknow Expressway on Monday amid dense fog and poor visibility. Around 10 people, who sustained injuries in the accident, were rushed to a trauma centre in Lucknow for treatment. Police said the bus was on its way to Nepal from Gujarat's Rajkot.\",\n",
       "  'category': 'national'}]"
      ]
     },
     "execution_count": 25,
     "metadata": {},
     "output_type": "execute_result"
    }
   ],
   "source": [
    "inshorts[0:5]"
   ]
  },
  {
   "cell_type": "code",
   "execution_count": 26,
   "id": "c53d2b05-8767-40a6-bdbc-a487f111b144",
   "metadata": {},
   "outputs": [
    {
     "data": {
      "text/html": [
       "<div>\n",
       "<style scoped>\n",
       "    .dataframe tbody tr th:only-of-type {\n",
       "        vertical-align: middle;\n",
       "    }\n",
       "\n",
       "    .dataframe tbody tr th {\n",
       "        vertical-align: top;\n",
       "    }\n",
       "\n",
       "    .dataframe thead th {\n",
       "        text-align: right;\n",
       "    }\n",
       "</style>\n",
       "<table border=\"1\" class=\"dataframe\">\n",
       "  <thead>\n",
       "    <tr style=\"text-align: right;\">\n",
       "      <th></th>\n",
       "      <th>title</th>\n",
       "      <th>content</th>\n",
       "      <th>category</th>\n",
       "    </tr>\n",
       "  </thead>\n",
       "  <tbody>\n",
       "    <tr>\n",
       "      <th>0</th>\n",
       "      <td>Drunk man smoked in toilet, another peed on wo...</td>\n",
       "      <td>A drunk passenger smoked in the toilet on a Pa...</td>\n",
       "      <td>national</td>\n",
       "    </tr>\n",
       "    <tr>\n",
       "      <th>1</th>\n",
       "      <td>Coaching centre run by Rajasthan paper leak ca...</td>\n",
       "      <td>The Jaipur Development Authority (JDA) on Mond...</td>\n",
       "      <td>national</td>\n",
       "    </tr>\n",
       "    <tr>\n",
       "      <th>2</th>\n",
       "      <td>Temporary ban on BS-III petrol &amp; BS-IV diesel ...</td>\n",
       "      <td>The Delhi government has decided to impose a t...</td>\n",
       "      <td>national</td>\n",
       "    </tr>\n",
       "    <tr>\n",
       "      <th>3</th>\n",
       "      <td>Joshimath divided into 3 zones, govt says most...</td>\n",
       "      <td>Uttarakhand's Joshimath, where a majority of b...</td>\n",
       "      <td>national</td>\n",
       "    </tr>\n",
       "    <tr>\n",
       "      <th>4</th>\n",
       "      <td>4 dead, 10 hurt as bus hits truck amid dense f...</td>\n",
       "      <td>At least four people were killed after a speed...</td>\n",
       "      <td>national</td>\n",
       "    </tr>\n",
       "    <tr>\n",
       "      <th>...</th>\n",
       "      <td>...</td>\n",
       "      <td>...</td>\n",
       "      <td>...</td>\n",
       "    </tr>\n",
       "    <tr>\n",
       "      <th>290</th>\n",
       "      <td>Electric two-wheeler sales cross 6-lakh mark i...</td>\n",
       "      <td>Electric two-wheeler (E2W) sales in 2022 hit a...</td>\n",
       "      <td>automobile</td>\n",
       "    </tr>\n",
       "    <tr>\n",
       "      <th>291</th>\n",
       "      <td>Tesla shares fall further after firm misses 20...</td>\n",
       "      <td>Tesla's shares, which dipped roughly 65% last ...</td>\n",
       "      <td>automobile</td>\n",
       "    </tr>\n",
       "    <tr>\n",
       "      <th>292</th>\n",
       "      <td>GM beats Toyota to reclaim top US automaker sp...</td>\n",
       "      <td>General Motors (GM) reclaimed the top US autom...</td>\n",
       "      <td>automobile</td>\n",
       "    </tr>\n",
       "    <tr>\n",
       "      <th>293</th>\n",
       "      <td>Rolls-Royce reports record car sales in 118 years</td>\n",
       "      <td>Luxury car maker Rolls-Royce has sold 6021 car...</td>\n",
       "      <td>automobile</td>\n",
       "    </tr>\n",
       "    <tr>\n",
       "      <th>294</th>\n",
       "      <td>JSW Group planning to venture into EV manufact...</td>\n",
       "      <td>JSW Group is considering to enter into the man...</td>\n",
       "      <td>automobile</td>\n",
       "    </tr>\n",
       "  </tbody>\n",
       "</table>\n",
       "<p>295 rows × 3 columns</p>\n",
       "</div>"
      ],
      "text/plain": [
       "                                                 title  \\\n",
       "0    Drunk man smoked in toilet, another peed on wo...   \n",
       "1    Coaching centre run by Rajasthan paper leak ca...   \n",
       "2    Temporary ban on BS-III petrol & BS-IV diesel ...   \n",
       "3    Joshimath divided into 3 zones, govt says most...   \n",
       "4    4 dead, 10 hurt as bus hits truck amid dense f...   \n",
       "..                                                 ...   \n",
       "290  Electric two-wheeler sales cross 6-lakh mark i...   \n",
       "291  Tesla shares fall further after firm misses 20...   \n",
       "292  GM beats Toyota to reclaim top US automaker sp...   \n",
       "293  Rolls-Royce reports record car sales in 118 years   \n",
       "294  JSW Group planning to venture into EV manufact...   \n",
       "\n",
       "                                               content    category  \n",
       "0    A drunk passenger smoked in the toilet on a Pa...    national  \n",
       "1    The Jaipur Development Authority (JDA) on Mond...    national  \n",
       "2    The Delhi government has decided to impose a t...    national  \n",
       "3    Uttarakhand's Joshimath, where a majority of b...    national  \n",
       "4    At least four people were killed after a speed...    national  \n",
       "..                                                 ...         ...  \n",
       "290  Electric two-wheeler (E2W) sales in 2022 hit a...  automobile  \n",
       "291  Tesla's shares, which dipped roughly 65% last ...  automobile  \n",
       "292  General Motors (GM) reclaimed the top US autom...  automobile  \n",
       "293  Luxury car maker Rolls-Royce has sold 6021 car...  automobile  \n",
       "294  JSW Group is considering to enter into the man...  automobile  \n",
       "\n",
       "[295 rows x 3 columns]"
      ]
     },
     "execution_count": 26,
     "metadata": {},
     "output_type": "execute_result"
    }
   ],
   "source": [
    "inshorts_article_df = pd.DataFrame(inshorts)\n",
    "inshorts_article_df"
   ]
  },
  {
   "cell_type": "code",
   "execution_count": 27,
   "id": "e0b03928-df3b-4fd6-b435-633a89675a7e",
   "metadata": {},
   "outputs": [],
   "source": [
    "inshorts_article_df.to_csv('news_articles.csv', index=False)"
   ]
  },
  {
   "cell_type": "code",
   "execution_count": null,
   "id": "1abe1ec6",
   "metadata": {},
   "outputs": [],
   "source": []
  }
 ],
 "metadata": {
  "kernelspec": {
   "display_name": "Python 3 (ipykernel)",
   "language": "python",
   "name": "python3"
  },
  "language_info": {
   "codemirror_mode": {
    "name": "ipython",
    "version": 3
   },
   "file_extension": ".py",
   "mimetype": "text/x-python",
   "name": "python",
   "nbconvert_exporter": "python",
   "pygments_lexer": "ipython3",
   "version": "3.9.12"
  }
 },
 "nbformat": 4,
 "nbformat_minor": 5
}
