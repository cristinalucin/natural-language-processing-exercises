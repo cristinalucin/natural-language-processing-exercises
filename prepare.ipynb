{
 "cells": [
  {
   "cell_type": "code",
   "execution_count": 155,
   "id": "7f369bc1",
   "metadata": {},
   "outputs": [],
   "source": [
    "import pandas as pd\n",
    "import numpy as np\n",
    "from requests import get\n",
    "from bs4 import BeautifulSoup\n",
    "import os\n",
    "import requests\n",
    "import re"
   ]
  },
  {
   "cell_type": "markdown",
   "id": "71ee6451",
   "metadata": {},
   "source": [
    "### See end of document for exercises"
   ]
  },
  {
   "cell_type": "markdown",
   "id": "c80276cd",
   "metadata": {},
   "source": [
    "### Our goal is to make predictions using text"
   ]
  },
  {
   "cell_type": "code",
   "execution_count": 38,
   "id": "b4935d4c",
   "metadata": {},
   "outputs": [],
   "source": [
    "original = \"Paul Erdős and George Pólya were influential Hungarian mathematicians who contributed \\\n",
    "a lot to the field. Erdős's name contains the Hungarian letter 'ő' ('o' with double acute accent), \\\n",
    "but is often incorrectly written as Erdos or Erdös either by mistake or out of typographical necessity\""
   ]
  },
  {
   "cell_type": "code",
   "execution_count": 39,
   "id": "88361d1e",
   "metadata": {},
   "outputs": [
    {
     "data": {
      "text/plain": [
       "\"Paul Erdős and George Pólya were influential Hungarian mathematicians who contributed a lot to the field. Erdős's name contains the Hungarian letter 'ő' ('o' with double acute accent), but is often incorrectly written as Erdos or Erdös either by mistake or out of typographical necessity\""
      ]
     },
     "execution_count": 39,
     "metadata": {},
     "output_type": "execute_result"
    }
   ],
   "source": [
    "original"
   ]
  },
  {
   "cell_type": "markdown",
   "id": "e39bf70e",
   "metadata": {},
   "source": [
    "## 1. lowercase everything"
   ]
  },
  {
   "cell_type": "code",
   "execution_count": 40,
   "id": "23d857e4",
   "metadata": {},
   "outputs": [],
   "source": [
    "original = original.lower()"
   ]
  },
  {
   "cell_type": "markdown",
   "id": "49b9b73c",
   "metadata": {},
   "source": [
    "## 2. remove accented characters and non-ASCII characters"
   ]
  },
  {
   "cell_type": "code",
   "execution_count": 41,
   "id": "6946a91b",
   "metadata": {},
   "outputs": [],
   "source": [
    "import unicodedata\n",
    "#wants a methodology for normalization\n",
    "\n",
    "original = unicodedata.normalize('NFKD', original).encode('ascii', 'ignore').decode('utf-8')\n",
    "#ASCII part gets rid of non-ASCII characters (changes)\n",
    "#b\" could be a marker denoting an encoded string"
   ]
  },
  {
   "cell_type": "markdown",
   "id": "318934c5",
   "metadata": {},
   "source": [
    "## 3. Remove any special characters that were not picked up"
   ]
  },
  {
   "cell_type": "code",
   "execution_count": 42,
   "id": "a3c77de7",
   "metadata": {},
   "outputs": [],
   "source": [
    "import re"
   ]
  },
  {
   "cell_type": "code",
   "execution_count": 48,
   "id": "58e6b38e",
   "metadata": {},
   "outputs": [
    {
     "data": {
      "text/plain": [
       "\"paul erdos and george polya were influential hungarian mathematicians who contributed a lot to the field erdos's name contains the hungarian letter 'o' 'o' with double acute accent but is often incorrectly written as erdos or erdos either by mistake or out of typographical necessity\""
      ]
     },
     "execution_count": 48,
     "metadata": {},
     "output_type": "execute_result"
    }
   ],
   "source": [
    "original = re.sub('[^a-z0-9\\'\\s]', '', original)\n",
    "original"
   ]
  },
  {
   "cell_type": "markdown",
   "id": "eddd3f2e",
   "metadata": {},
   "source": [
    "## 4. Tokenize"
   ]
  },
  {
   "cell_type": "markdown",
   "id": "dc613842",
   "metadata": {},
   "source": [
    "### In entity recognition you label each token"
   ]
  },
  {
   "cell_type": "code",
   "execution_count": 49,
   "id": "1e420852",
   "metadata": {},
   "outputs": [],
   "source": [
    "import nltk"
   ]
  },
  {
   "cell_type": "code",
   "execution_count": 50,
   "id": "f0436e0b",
   "metadata": {},
   "outputs": [
    {
     "data": {
      "text/plain": [
       "<nltk.tokenize.toktok.ToktokTokenizer at 0x1561d8a00>"
      ]
     },
     "execution_count": 50,
     "metadata": {},
     "output_type": "execute_result"
    }
   ],
   "source": [
    "tokenize = nltk.tokenize.ToktokTokenizer()\n",
    "tokenize"
   ]
  },
  {
   "cell_type": "code",
   "execution_count": 55,
   "id": "de3bb47e",
   "metadata": {},
   "outputs": [
    {
     "data": {
      "text/plain": [
       "\"paul erdos and george polya were influential hungarian mathematicians who contributed a lot to the field erdos ' s name contains the hungarian letter ' o ' ' o ' with double acute accent but is often incorrectly written as erdos or erdos either by mistake or out of typographical necessity\""
      ]
     },
     "execution_count": 55,
     "metadata": {},
     "output_type": "execute_result"
    }
   ],
   "source": [
    "#Tokenizing separates\n",
    "tokenize =tokenize.tokenize(original, return_str=True)\n",
    "tokenize"
   ]
  },
  {
   "cell_type": "code",
   "execution_count": 54,
   "id": "3213ef85",
   "metadata": {},
   "outputs": [
    {
     "data": {
      "text/plain": [
       "['paul',\n",
       " 'erdos',\n",
       " 'and',\n",
       " 'george',\n",
       " 'polya',\n",
       " 'were',\n",
       " 'influential',\n",
       " 'hungarian',\n",
       " 'mathematicians',\n",
       " 'who',\n",
       " 'contributed',\n",
       " 'a',\n",
       " 'lot',\n",
       " 'to',\n",
       " 'the',\n",
       " 'field',\n",
       " 'erdos',\n",
       " \"'\",\n",
       " 's',\n",
       " 'name',\n",
       " 'contains',\n",
       " 'the',\n",
       " 'hungarian',\n",
       " 'letter',\n",
       " \"'\",\n",
       " 'o',\n",
       " \"'\",\n",
       " \"'\",\n",
       " 'o',\n",
       " \"'\",\n",
       " 'with',\n",
       " 'double',\n",
       " 'acute',\n",
       " 'accent',\n",
       " 'but',\n",
       " 'is',\n",
       " 'often',\n",
       " 'incorrectly',\n",
       " 'written',\n",
       " 'as',\n",
       " 'erdos',\n",
       " 'or',\n",
       " 'erdos',\n",
       " 'either',\n",
       " 'by',\n",
       " 'mistake',\n",
       " 'or',\n",
       " 'out',\n",
       " 'of',\n",
       " 'typographical',\n",
       " 'necessity']"
      ]
     },
     "execution_count": 54,
     "metadata": {},
     "output_type": "execute_result"
    }
   ],
   "source": [
    "#Tokenizing return string false\n",
    "#If you set it to false, it turns it into a list\n",
    "tokenize.tokenize(original, return_str=False)"
   ]
  },
  {
   "cell_type": "markdown",
   "id": "158afa5d",
   "metadata": {},
   "source": [
    "## 5. Stemming OR Lemmatizing\n",
    "### We are trying to create less unniqueness in the language\n",
    "### Generally accepted to not do both"
   ]
  },
  {
   "cell_type": "code",
   "execution_count": 57,
   "id": "58294078",
   "metadata": {},
   "outputs": [
    {
     "data": {
      "text/plain": [
       "<PorterStemmer>"
      ]
     },
     "execution_count": 57,
     "metadata": {},
     "output_type": "execute_result"
    }
   ],
   "source": [
    "ps = nltk.porter.PorterStemmer()\n",
    "ps"
   ]
  },
  {
   "cell_type": "code",
   "execution_count": 59,
   "id": "129eb67e",
   "metadata": {},
   "outputs": [
    {
     "data": {
      "text/plain": [
       "('call', 'call', 'call', 'call')"
      ]
     },
     "execution_count": 59,
     "metadata": {},
     "output_type": "execute_result"
    }
   ],
   "source": [
    "ps.stem('calling'), ps.stem('calls'), ps.stem('called'), ps.stem('call')"
   ]
  },
  {
   "cell_type": "code",
   "execution_count": 60,
   "id": "677beb46",
   "metadata": {},
   "outputs": [
    {
     "data": {
      "text/plain": [
       "'hous'"
      ]
     },
     "execution_count": 60,
     "metadata": {},
     "output_type": "execute_result"
    }
   ],
   "source": [
    "#using a word that cannot be easily stemmed\n",
    "ps.stem('house')"
   ]
  },
  {
   "cell_type": "markdown",
   "id": "78fce628",
   "metadata": {},
   "source": [
    "#### Stemming (in older texts) letters were used more profusely, you paid per letter for old printing press"
   ]
  },
  {
   "cell_type": "code",
   "execution_count": 63,
   "id": "919ac0dc",
   "metadata": {},
   "outputs": [
    {
     "data": {
      "text/plain": [
       "\"paul erdos and george polya were influential hungarian mathematicians who contributed a lot to the field erdos's name contains the hungarian letter 'o' 'o' with double acute accent but is often incorrectly written as erdos or erdos either by mistake or out of typographical necess\""
      ]
     },
     "execution_count": 63,
     "metadata": {},
     "output_type": "execute_result"
    }
   ],
   "source": [
    "ps.stem(original)"
   ]
  },
  {
   "cell_type": "code",
   "execution_count": 61,
   "id": "94a3eed5",
   "metadata": {},
   "outputs": [
    {
     "data": {
      "text/plain": [
       "'contribut'"
      ]
     },
     "execution_count": 61,
     "metadata": {},
     "output_type": "execute_result"
    }
   ],
   "source": [
    "ps.stem('contributed')"
   ]
  },
  {
   "cell_type": "code",
   "execution_count": 62,
   "id": "e2c6ad00",
   "metadata": {},
   "outputs": [
    {
     "data": {
      "text/plain": [
       "\"paul erdo and georg polya were influenti hungarian mathematician who contribut a lot to the field erdos' name contain the hungarian letter 'o' 'o' with doubl acut accent but is often incorrectli written as erdo or erdo either by mistak or out of typograph necess\""
      ]
     },
     "execution_count": 62,
     "metadata": {},
     "output_type": "execute_result"
    }
   ],
   "source": [
    "stems = [ps.stem(word) for word in original.split()]\n",
    "' '.join(stems)"
   ]
  },
  {
   "cell_type": "markdown",
   "id": "c8713742",
   "metadata": {},
   "source": [
    "## Lemmatize"
   ]
  },
  {
   "cell_type": "code",
   "execution_count": 70,
   "id": "2ad091f2",
   "metadata": {},
   "outputs": [
    {
     "name": "stderr",
     "output_type": "stream",
     "text": [
      "[nltk_data] Downloading collection 'all'\n",
      "[nltk_data]    | \n",
      "[nltk_data]    | Downloading package abc to\n",
      "[nltk_data]    |     /Users/crislucin/nltk_data...\n",
      "[nltk_data]    |   Unzipping corpora/abc.zip.\n",
      "[nltk_data]    | Downloading package alpino to\n",
      "[nltk_data]    |     /Users/crislucin/nltk_data...\n",
      "[nltk_data]    |   Unzipping corpora/alpino.zip.\n",
      "[nltk_data]    | Downloading package averaged_perceptron_tagger to\n",
      "[nltk_data]    |     /Users/crislucin/nltk_data...\n",
      "[nltk_data]    |   Unzipping taggers/averaged_perceptron_tagger.zip.\n",
      "[nltk_data]    | Downloading package averaged_perceptron_tagger_ru to\n",
      "[nltk_data]    |     /Users/crislucin/nltk_data...\n",
      "[nltk_data]    |   Unzipping\n",
      "[nltk_data]    |       taggers/averaged_perceptron_tagger_ru.zip.\n",
      "[nltk_data]    | Downloading package basque_grammars to\n",
      "[nltk_data]    |     /Users/crislucin/nltk_data...\n",
      "[nltk_data]    |   Unzipping grammars/basque_grammars.zip.\n",
      "[nltk_data]    | Downloading package bcp47 to\n",
      "[nltk_data]    |     /Users/crislucin/nltk_data...\n",
      "[nltk_data]    | Downloading package biocreative_ppi to\n",
      "[nltk_data]    |     /Users/crislucin/nltk_data...\n",
      "[nltk_data]    |   Unzipping corpora/biocreative_ppi.zip.\n",
      "[nltk_data]    | Downloading package bllip_wsj_no_aux to\n",
      "[nltk_data]    |     /Users/crislucin/nltk_data...\n",
      "[nltk_data]    |   Unzipping models/bllip_wsj_no_aux.zip.\n",
      "[nltk_data]    | Downloading package book_grammars to\n",
      "[nltk_data]    |     /Users/crislucin/nltk_data...\n",
      "[nltk_data]    |   Unzipping grammars/book_grammars.zip.\n",
      "[nltk_data]    | Downloading package brown to\n",
      "[nltk_data]    |     /Users/crislucin/nltk_data...\n",
      "[nltk_data]    |   Unzipping corpora/brown.zip.\n",
      "[nltk_data]    | Downloading package brown_tei to\n",
      "[nltk_data]    |     /Users/crislucin/nltk_data...\n",
      "[nltk_data]    |   Unzipping corpora/brown_tei.zip.\n",
      "[nltk_data]    | Downloading package cess_cat to\n",
      "[nltk_data]    |     /Users/crislucin/nltk_data...\n",
      "[nltk_data]    |   Unzipping corpora/cess_cat.zip.\n",
      "[nltk_data]    | Downloading package cess_esp to\n",
      "[nltk_data]    |     /Users/crislucin/nltk_data...\n",
      "[nltk_data]    |   Unzipping corpora/cess_esp.zip.\n",
      "[nltk_data]    | Downloading package chat80 to\n",
      "[nltk_data]    |     /Users/crislucin/nltk_data...\n",
      "[nltk_data]    |   Unzipping corpora/chat80.zip.\n",
      "[nltk_data]    | Downloading package city_database to\n",
      "[nltk_data]    |     /Users/crislucin/nltk_data...\n",
      "[nltk_data]    |   Unzipping corpora/city_database.zip.\n",
      "[nltk_data]    | Downloading package cmudict to\n",
      "[nltk_data]    |     /Users/crislucin/nltk_data...\n",
      "[nltk_data]    |   Unzipping corpora/cmudict.zip.\n",
      "[nltk_data]    | Downloading package comparative_sentences to\n",
      "[nltk_data]    |     /Users/crislucin/nltk_data...\n",
      "[nltk_data]    |   Unzipping corpora/comparative_sentences.zip.\n",
      "[nltk_data]    | Downloading package comtrans to\n",
      "[nltk_data]    |     /Users/crislucin/nltk_data...\n",
      "[nltk_data]    | Downloading package conll2000 to\n",
      "[nltk_data]    |     /Users/crislucin/nltk_data...\n",
      "[nltk_data]    |   Unzipping corpora/conll2000.zip.\n",
      "[nltk_data]    | Downloading package conll2002 to\n",
      "[nltk_data]    |     /Users/crislucin/nltk_data...\n",
      "[nltk_data]    |   Unzipping corpora/conll2002.zip.\n",
      "[nltk_data]    | Downloading package conll2007 to\n",
      "[nltk_data]    |     /Users/crislucin/nltk_data...\n",
      "[nltk_data]    | Downloading package crubadan to\n",
      "[nltk_data]    |     /Users/crislucin/nltk_data...\n",
      "[nltk_data]    |   Unzipping corpora/crubadan.zip.\n",
      "[nltk_data]    | Downloading package dependency_treebank to\n",
      "[nltk_data]    |     /Users/crislucin/nltk_data...\n",
      "[nltk_data]    |   Unzipping corpora/dependency_treebank.zip.\n",
      "[nltk_data]    | Downloading package dolch to\n",
      "[nltk_data]    |     /Users/crislucin/nltk_data...\n",
      "[nltk_data]    |   Unzipping corpora/dolch.zip.\n",
      "[nltk_data]    | Downloading package europarl_raw to\n",
      "[nltk_data]    |     /Users/crislucin/nltk_data...\n",
      "[nltk_data]    |   Unzipping corpora/europarl_raw.zip.\n",
      "[nltk_data]    | Downloading package extended_omw to\n",
      "[nltk_data]    |     /Users/crislucin/nltk_data...\n",
      "[nltk_data]    | Downloading package floresta to\n",
      "[nltk_data]    |     /Users/crislucin/nltk_data...\n",
      "[nltk_data]    |   Unzipping corpora/floresta.zip.\n",
      "[nltk_data]    | Downloading package framenet_v15 to\n",
      "[nltk_data]    |     /Users/crislucin/nltk_data...\n",
      "[nltk_data]    |   Unzipping corpora/framenet_v15.zip.\n",
      "[nltk_data]    | Downloading package framenet_v17 to\n",
      "[nltk_data]    |     /Users/crislucin/nltk_data...\n",
      "[nltk_data]    |   Unzipping corpora/framenet_v17.zip.\n",
      "[nltk_data]    | Downloading package gazetteers to\n",
      "[nltk_data]    |     /Users/crislucin/nltk_data...\n",
      "[nltk_data]    |   Unzipping corpora/gazetteers.zip.\n",
      "[nltk_data]    | Downloading package genesis to\n",
      "[nltk_data]    |     /Users/crislucin/nltk_data...\n",
      "[nltk_data]    |   Unzipping corpora/genesis.zip.\n",
      "[nltk_data]    | Downloading package gutenberg to\n",
      "[nltk_data]    |     /Users/crislucin/nltk_data...\n",
      "[nltk_data]    |   Unzipping corpora/gutenberg.zip.\n",
      "[nltk_data]    | Downloading package ieer to\n",
      "[nltk_data]    |     /Users/crislucin/nltk_data...\n",
      "[nltk_data]    |   Unzipping corpora/ieer.zip.\n",
      "[nltk_data]    | Downloading package inaugural to\n",
      "[nltk_data]    |     /Users/crislucin/nltk_data...\n",
      "[nltk_data]    |   Unzipping corpora/inaugural.zip.\n",
      "[nltk_data]    | Downloading package indian to\n",
      "[nltk_data]    |     /Users/crislucin/nltk_data...\n",
      "[nltk_data]    |   Unzipping corpora/indian.zip.\n",
      "[nltk_data]    | Downloading package jeita to\n",
      "[nltk_data]    |     /Users/crislucin/nltk_data...\n",
      "[nltk_data]    | Downloading package kimmo to\n",
      "[nltk_data]    |     /Users/crislucin/nltk_data...\n",
      "[nltk_data]    |   Unzipping corpora/kimmo.zip.\n",
      "[nltk_data]    | Downloading package knbc to\n",
      "[nltk_data]    |     /Users/crislucin/nltk_data...\n",
      "[nltk_data]    | Downloading package large_grammars to\n",
      "[nltk_data]    |     /Users/crislucin/nltk_data...\n",
      "[nltk_data]    |   Unzipping grammars/large_grammars.zip.\n",
      "[nltk_data]    | Downloading package lin_thesaurus to\n",
      "[nltk_data]    |     /Users/crislucin/nltk_data...\n",
      "[nltk_data]    |   Unzipping corpora/lin_thesaurus.zip.\n",
      "[nltk_data]    | Downloading package mac_morpho to\n",
      "[nltk_data]    |     /Users/crislucin/nltk_data...\n",
      "[nltk_data]    |   Unzipping corpora/mac_morpho.zip.\n",
      "[nltk_data]    | Downloading package machado to\n",
      "[nltk_data]    |     /Users/crislucin/nltk_data...\n",
      "[nltk_data]    | Downloading package masc_tagged to\n",
      "[nltk_data]    |     /Users/crislucin/nltk_data...\n",
      "[nltk_data]    | Downloading package maxent_ne_chunker to\n",
      "[nltk_data]    |     /Users/crislucin/nltk_data...\n",
      "[nltk_data]    |   Unzipping chunkers/maxent_ne_chunker.zip.\n",
      "[nltk_data]    | Downloading package maxent_treebank_pos_tagger to\n",
      "[nltk_data]    |     /Users/crislucin/nltk_data...\n",
      "[nltk_data]    |   Unzipping taggers/maxent_treebank_pos_tagger.zip.\n",
      "[nltk_data]    | Downloading package moses_sample to\n",
      "[nltk_data]    |     /Users/crislucin/nltk_data...\n",
      "[nltk_data]    |   Unzipping models/moses_sample.zip.\n",
      "[nltk_data]    | Downloading package movie_reviews to\n",
      "[nltk_data]    |     /Users/crislucin/nltk_data...\n",
      "[nltk_data]    |   Unzipping corpora/movie_reviews.zip.\n",
      "[nltk_data]    | Downloading package mte_teip5 to\n",
      "[nltk_data]    |     /Users/crislucin/nltk_data...\n",
      "[nltk_data]    |   Unzipping corpora/mte_teip5.zip.\n",
      "[nltk_data]    | Downloading package mwa_ppdb to\n",
      "[nltk_data]    |     /Users/crislucin/nltk_data...\n",
      "[nltk_data]    |   Unzipping misc/mwa_ppdb.zip.\n",
      "[nltk_data]    | Downloading package names to\n",
      "[nltk_data]    |     /Users/crislucin/nltk_data...\n",
      "[nltk_data]    |   Unzipping corpora/names.zip.\n",
      "[nltk_data]    | Downloading package nombank.1.0 to\n",
      "[nltk_data]    |     /Users/crislucin/nltk_data...\n",
      "[nltk_data]    | Downloading package nonbreaking_prefixes to\n",
      "[nltk_data]    |     /Users/crislucin/nltk_data...\n",
      "[nltk_data]    |   Unzipping corpora/nonbreaking_prefixes.zip.\n",
      "[nltk_data]    | Downloading package nps_chat to\n",
      "[nltk_data]    |     /Users/crislucin/nltk_data...\n",
      "[nltk_data]    |   Unzipping corpora/nps_chat.zip.\n",
      "[nltk_data]    | Downloading package omw to\n",
      "[nltk_data]    |     /Users/crislucin/nltk_data...\n",
      "[nltk_data]    | Downloading package omw-1.4 to\n",
      "[nltk_data]    |     /Users/crislucin/nltk_data...\n",
      "[nltk_data]    | Downloading package opinion_lexicon to\n",
      "[nltk_data]    |     /Users/crislucin/nltk_data...\n",
      "[nltk_data]    |   Unzipping corpora/opinion_lexicon.zip.\n",
      "[nltk_data]    | Downloading package panlex_swadesh to\n",
      "[nltk_data]    |     /Users/crislucin/nltk_data...\n"
     ]
    },
    {
     "name": "stderr",
     "output_type": "stream",
     "text": [
      "[nltk_data]    | Downloading package paradigms to\n",
      "[nltk_data]    |     /Users/crislucin/nltk_data...\n",
      "[nltk_data]    |   Unzipping corpora/paradigms.zip.\n",
      "[nltk_data]    | Downloading package pe08 to\n",
      "[nltk_data]    |     /Users/crislucin/nltk_data...\n",
      "[nltk_data]    |   Unzipping corpora/pe08.zip.\n",
      "[nltk_data]    | Downloading package perluniprops to\n",
      "[nltk_data]    |     /Users/crislucin/nltk_data...\n",
      "[nltk_data]    |   Unzipping misc/perluniprops.zip.\n",
      "[nltk_data]    | Downloading package pil to\n",
      "[nltk_data]    |     /Users/crislucin/nltk_data...\n",
      "[nltk_data]    |   Unzipping corpora/pil.zip.\n",
      "[nltk_data]    | Downloading package pl196x to\n",
      "[nltk_data]    |     /Users/crislucin/nltk_data...\n",
      "[nltk_data]    |   Unzipping corpora/pl196x.zip.\n",
      "[nltk_data]    | Downloading package porter_test to\n",
      "[nltk_data]    |     /Users/crislucin/nltk_data...\n",
      "[nltk_data]    |   Unzipping stemmers/porter_test.zip.\n",
      "[nltk_data]    | Downloading package ppattach to\n",
      "[nltk_data]    |     /Users/crislucin/nltk_data...\n",
      "[nltk_data]    |   Unzipping corpora/ppattach.zip.\n",
      "[nltk_data]    | Downloading package problem_reports to\n",
      "[nltk_data]    |     /Users/crislucin/nltk_data...\n",
      "[nltk_data]    |   Unzipping corpora/problem_reports.zip.\n",
      "[nltk_data]    | Downloading package product_reviews_1 to\n",
      "[nltk_data]    |     /Users/crislucin/nltk_data...\n",
      "[nltk_data]    |   Unzipping corpora/product_reviews_1.zip.\n",
      "[nltk_data]    | Downloading package product_reviews_2 to\n",
      "[nltk_data]    |     /Users/crislucin/nltk_data...\n",
      "[nltk_data]    |   Unzipping corpora/product_reviews_2.zip.\n",
      "[nltk_data]    | Downloading package propbank to\n",
      "[nltk_data]    |     /Users/crislucin/nltk_data...\n",
      "[nltk_data]    | Downloading package pros_cons to\n",
      "[nltk_data]    |     /Users/crislucin/nltk_data...\n",
      "[nltk_data]    |   Unzipping corpora/pros_cons.zip.\n",
      "[nltk_data]    | Downloading package ptb to\n",
      "[nltk_data]    |     /Users/crislucin/nltk_data...\n",
      "[nltk_data]    |   Unzipping corpora/ptb.zip.\n",
      "[nltk_data]    | Downloading package punkt to\n",
      "[nltk_data]    |     /Users/crislucin/nltk_data...\n",
      "[nltk_data]    |   Unzipping tokenizers/punkt.zip.\n",
      "[nltk_data]    | Downloading package qc to\n",
      "[nltk_data]    |     /Users/crislucin/nltk_data...\n",
      "[nltk_data]    |   Unzipping corpora/qc.zip.\n",
      "[nltk_data]    | Downloading package reuters to\n",
      "[nltk_data]    |     /Users/crislucin/nltk_data...\n",
      "[nltk_data]    | Downloading package rslp to\n",
      "[nltk_data]    |     /Users/crislucin/nltk_data...\n",
      "[nltk_data]    |   Unzipping stemmers/rslp.zip.\n",
      "[nltk_data]    | Downloading package rte to\n",
      "[nltk_data]    |     /Users/crislucin/nltk_data...\n",
      "[nltk_data]    |   Unzipping corpora/rte.zip.\n",
      "[nltk_data]    | Downloading package sample_grammars to\n",
      "[nltk_data]    |     /Users/crislucin/nltk_data...\n",
      "[nltk_data]    |   Unzipping grammars/sample_grammars.zip.\n",
      "[nltk_data]    | Downloading package semcor to\n",
      "[nltk_data]    |     /Users/crislucin/nltk_data...\n",
      "[nltk_data]    | Downloading package senseval to\n",
      "[nltk_data]    |     /Users/crislucin/nltk_data...\n",
      "[nltk_data]    |   Unzipping corpora/senseval.zip.\n",
      "[nltk_data]    | Downloading package sentence_polarity to\n",
      "[nltk_data]    |     /Users/crislucin/nltk_data...\n",
      "[nltk_data]    |   Unzipping corpora/sentence_polarity.zip.\n",
      "[nltk_data]    | Downloading package sentiwordnet to\n",
      "[nltk_data]    |     /Users/crislucin/nltk_data...\n",
      "[nltk_data]    |   Unzipping corpora/sentiwordnet.zip.\n",
      "[nltk_data]    | Downloading package shakespeare to\n",
      "[nltk_data]    |     /Users/crislucin/nltk_data...\n",
      "[nltk_data]    |   Unzipping corpora/shakespeare.zip.\n",
      "[nltk_data]    | Downloading package sinica_treebank to\n",
      "[nltk_data]    |     /Users/crislucin/nltk_data...\n",
      "[nltk_data]    |   Unzipping corpora/sinica_treebank.zip.\n",
      "[nltk_data]    | Downloading package smultron to\n",
      "[nltk_data]    |     /Users/crislucin/nltk_data...\n",
      "[nltk_data]    |   Unzipping corpora/smultron.zip.\n",
      "[nltk_data]    | Downloading package snowball_data to\n",
      "[nltk_data]    |     /Users/crislucin/nltk_data...\n",
      "[nltk_data]    | Downloading package spanish_grammars to\n",
      "[nltk_data]    |     /Users/crislucin/nltk_data...\n",
      "[nltk_data]    |   Unzipping grammars/spanish_grammars.zip.\n",
      "[nltk_data]    | Downloading package state_union to\n",
      "[nltk_data]    |     /Users/crislucin/nltk_data...\n",
      "[nltk_data]    |   Unzipping corpora/state_union.zip.\n",
      "[nltk_data]    | Downloading package stopwords to\n",
      "[nltk_data]    |     /Users/crislucin/nltk_data...\n",
      "[nltk_data]    |   Package stopwords is already up-to-date!\n",
      "[nltk_data]    | Downloading package subjectivity to\n",
      "[nltk_data]    |     /Users/crislucin/nltk_data...\n",
      "[nltk_data]    |   Unzipping corpora/subjectivity.zip.\n",
      "[nltk_data]    | Downloading package swadesh to\n",
      "[nltk_data]    |     /Users/crislucin/nltk_data...\n",
      "[nltk_data]    |   Unzipping corpora/swadesh.zip.\n",
      "[nltk_data]    | Downloading package switchboard to\n",
      "[nltk_data]    |     /Users/crislucin/nltk_data...\n",
      "[nltk_data]    |   Unzipping corpora/switchboard.zip.\n",
      "[nltk_data]    | Downloading package tagsets to\n",
      "[nltk_data]    |     /Users/crislucin/nltk_data...\n",
      "[nltk_data]    |   Unzipping help/tagsets.zip.\n",
      "[nltk_data]    | Downloading package timit to\n",
      "[nltk_data]    |     /Users/crislucin/nltk_data...\n",
      "[nltk_data]    |   Unzipping corpora/timit.zip.\n",
      "[nltk_data]    | Downloading package toolbox to\n",
      "[nltk_data]    |     /Users/crislucin/nltk_data...\n",
      "[nltk_data]    |   Unzipping corpora/toolbox.zip.\n",
      "[nltk_data]    | Downloading package treebank to\n",
      "[nltk_data]    |     /Users/crislucin/nltk_data...\n",
      "[nltk_data]    |   Unzipping corpora/treebank.zip.\n",
      "[nltk_data]    | Downloading package twitter_samples to\n",
      "[nltk_data]    |     /Users/crislucin/nltk_data...\n",
      "[nltk_data]    |   Unzipping corpora/twitter_samples.zip.\n",
      "[nltk_data]    | Downloading package udhr to\n",
      "[nltk_data]    |     /Users/crislucin/nltk_data...\n",
      "[nltk_data]    |   Unzipping corpora/udhr.zip.\n",
      "[nltk_data]    | Downloading package udhr2 to\n",
      "[nltk_data]    |     /Users/crislucin/nltk_data...\n",
      "[nltk_data]    |   Unzipping corpora/udhr2.zip.\n",
      "[nltk_data]    | Downloading package unicode_samples to\n",
      "[nltk_data]    |     /Users/crislucin/nltk_data...\n",
      "[nltk_data]    |   Unzipping corpora/unicode_samples.zip.\n",
      "[nltk_data]    | Downloading package universal_tagset to\n",
      "[nltk_data]    |     /Users/crislucin/nltk_data...\n",
      "[nltk_data]    |   Unzipping taggers/universal_tagset.zip.\n",
      "[nltk_data]    | Downloading package universal_treebanks_v20 to\n",
      "[nltk_data]    |     /Users/crislucin/nltk_data...\n",
      "[nltk_data]    | Downloading package vader_lexicon to\n",
      "[nltk_data]    |     /Users/crislucin/nltk_data...\n",
      "[nltk_data]    | Downloading package verbnet to\n",
      "[nltk_data]    |     /Users/crislucin/nltk_data...\n",
      "[nltk_data]    |   Unzipping corpora/verbnet.zip.\n",
      "[nltk_data]    | Downloading package verbnet3 to\n",
      "[nltk_data]    |     /Users/crislucin/nltk_data...\n",
      "[nltk_data]    |   Unzipping corpora/verbnet3.zip.\n",
      "[nltk_data]    | Downloading package webtext to\n",
      "[nltk_data]    |     /Users/crislucin/nltk_data...\n",
      "[nltk_data]    |   Unzipping corpora/webtext.zip.\n",
      "[nltk_data]    | Downloading package wmt15_eval to\n",
      "[nltk_data]    |     /Users/crislucin/nltk_data...\n",
      "[nltk_data]    |   Unzipping models/wmt15_eval.zip.\n",
      "[nltk_data]    | Downloading package word2vec_sample to\n",
      "[nltk_data]    |     /Users/crislucin/nltk_data...\n",
      "[nltk_data]    |   Unzipping models/word2vec_sample.zip.\n",
      "[nltk_data]    | Downloading package wordnet to\n",
      "[nltk_data]    |     /Users/crislucin/nltk_data...\n",
      "[nltk_data]    | Downloading package wordnet2021 to\n",
      "[nltk_data]    |     /Users/crislucin/nltk_data...\n",
      "[nltk_data]    | Downloading package wordnet31 to\n",
      "[nltk_data]    |     /Users/crislucin/nltk_data...\n",
      "[nltk_data]    | Downloading package wordnet_ic to\n",
      "[nltk_data]    |     /Users/crislucin/nltk_data...\n",
      "[nltk_data]    |   Unzipping corpora/wordnet_ic.zip.\n",
      "[nltk_data]    | Downloading package words to\n",
      "[nltk_data]    |     /Users/crislucin/nltk_data...\n",
      "[nltk_data]    |   Unzipping corpora/words.zip.\n",
      "[nltk_data]    | Downloading package ycoe to\n",
      "[nltk_data]    |     /Users/crislucin/nltk_data...\n",
      "[nltk_data]    |   Unzipping corpora/ycoe.zip.\n",
      "[nltk_data]    | \n",
      "[nltk_data]  Done downloading collection all\n"
     ]
    },
    {
     "data": {
      "text/plain": [
       "True"
      ]
     },
     "execution_count": 70,
     "metadata": {},
     "output_type": "execute_result"
    }
   ],
   "source": [
    "#Run the first time\n",
    "#nltk.download('all')"
   ]
  },
  {
   "cell_type": "code",
   "execution_count": 64,
   "id": "f6054e87",
   "metadata": {
    "scrolled": true
   },
   "outputs": [
    {
     "data": {
      "text/plain": [
       "\"paul erdos and george polya were influential hungarian mathematicians who contributed a lot to the field erdos's name contains the hungarian letter 'o' 'o' with double acute accent but is often incorrectly written as erdos or erdos either by mistake or out of typographical necessity\""
      ]
     },
     "execution_count": 64,
     "metadata": {},
     "output_type": "execute_result"
    }
   ],
   "source": [
    "original"
   ]
  },
  {
   "cell_type": "code",
   "execution_count": 65,
   "id": "eb2ebf7b",
   "metadata": {},
   "outputs": [
    {
     "data": {
      "text/plain": [
       "<WordNetLemmatizer>"
      ]
     },
     "execution_count": 65,
     "metadata": {},
     "output_type": "execute_result"
    }
   ],
   "source": [
    "nltk.stem.WordNetLemmatizer()"
   ]
  },
  {
   "cell_type": "code",
   "execution_count": 66,
   "id": "dccbeec7",
   "metadata": {},
   "outputs": [
    {
     "data": {
      "text/plain": [
       "<WordNetLemmatizer>"
      ]
     },
     "execution_count": 66,
     "metadata": {},
     "output_type": "execute_result"
    }
   ],
   "source": [
    "wnl = nltk.stem.WordNetLemmatizer()\n",
    "wnl"
   ]
  },
  {
   "cell_type": "code",
   "execution_count": 72,
   "id": "afcd769f",
   "metadata": {},
   "outputs": [
    {
     "data": {
      "text/plain": [
       "('calling', 'call', 'called', 'call')"
      ]
     },
     "execution_count": 72,
     "metadata": {},
     "output_type": "execute_result"
    }
   ],
   "source": [
    "wnl.lemmatize('calling'), wnl.lemmatize('calls'), wnl.lemmatize('called'), wnl.lemmatize('call')"
   ]
  },
  {
   "cell_type": "code",
   "execution_count": 73,
   "id": "93f57626",
   "metadata": {},
   "outputs": [
    {
     "data": {
      "text/plain": [
       "('house', 'housing')"
      ]
     },
     "execution_count": 73,
     "metadata": {},
     "output_type": "execute_result"
    }
   ],
   "source": [
    "wnl.lemmatize('house'), wnl.lemmatize('housing')"
   ]
  },
  {
   "cell_type": "code",
   "execution_count": 74,
   "id": "2e2e3542",
   "metadata": {},
   "outputs": [
    {
     "data": {
      "text/plain": [
       "('mous', 'mice')"
      ]
     },
     "execution_count": 74,
     "metadata": {},
     "output_type": "execute_result"
    }
   ],
   "source": [
    "ps.stem('mouse'), ps.stem('mice')"
   ]
  },
  {
   "cell_type": "markdown",
   "id": "884d40d4",
   "metadata": {},
   "source": [
    "### Lemmatizer understands that mice is the plural of mouse"
   ]
  },
  {
   "cell_type": "code",
   "execution_count": 75,
   "id": "4537f85f",
   "metadata": {},
   "outputs": [
    {
     "data": {
      "text/plain": [
       "('mouse', 'mouse')"
      ]
     },
     "execution_count": 75,
     "metadata": {},
     "output_type": "execute_result"
    }
   ],
   "source": [
    "wnl.lemmatize('mouse'), wnl.lemmatize('mice')"
   ]
  },
  {
   "cell_type": "code",
   "execution_count": 76,
   "id": "e161d16e",
   "metadata": {},
   "outputs": [
    {
     "data": {
      "text/plain": [
       "\"paul erdos and george polya were influential hungarian mathematician who contributed a lot to the field erdos's name contains the hungarian letter 'o' 'o' with double acute accent but is often incorrectly written a erdos or erdos either by mistake or out of typographical necessity\""
      ]
     },
     "execution_count": 76,
     "metadata": {},
     "output_type": "execute_result"
    }
   ],
   "source": [
    "lemmas = [wnl.lemmatize(word) for word in original.split()]\n",
    "' '.join(lemmas)"
   ]
  },
  {
   "cell_type": "markdown",
   "id": "0660ebb1",
   "metadata": {},
   "source": [
    "## 6. Remove Stopwords"
   ]
  },
  {
   "cell_type": "code",
   "execution_count": 77,
   "id": "6bc1b01b",
   "metadata": {},
   "outputs": [],
   "source": [
    "from nltk.corpus import stopwords"
   ]
  },
  {
   "cell_type": "code",
   "execution_count": 78,
   "id": "5c156868",
   "metadata": {},
   "outputs": [
    {
     "name": "stderr",
     "output_type": "stream",
     "text": [
      "[nltk_data] Downloading package stopwords to\n",
      "[nltk_data]     /Users/crislucin/nltk_data...\n",
      "[nltk_data]   Package stopwords is already up-to-date!\n"
     ]
    },
    {
     "data": {
      "text/plain": [
       "True"
      ]
     },
     "execution_count": 78,
     "metadata": {},
     "output_type": "execute_result"
    }
   ],
   "source": [
    "# do this once \n",
    "# nltk.download('stopwords')"
   ]
  },
  {
   "cell_type": "code",
   "execution_count": 79,
   "id": "7e52f1eb",
   "metadata": {},
   "outputs": [
    {
     "data": {
      "text/plain": [
       "['i', 'me', 'my', 'myself', 'we', 'our', 'ours', 'ourselves', 'you', \"you're\"]"
      ]
     },
     "execution_count": 79,
     "metadata": {},
     "output_type": "execute_result"
    }
   ],
   "source": [
    "stopwords_english = stopwords.words('english')\n",
    "stopwords_english[0:10]"
   ]
  },
  {
   "cell_type": "code",
   "execution_count": 80,
   "id": "1120c229",
   "metadata": {},
   "outputs": [
    {
     "data": {
      "text/plain": [
       "179"
      ]
     },
     "execution_count": 80,
     "metadata": {},
     "output_type": "execute_result"
    }
   ],
   "source": [
    "# 179 in english (stopwords)\n",
    "len(stopwords_english)"
   ]
  },
  {
   "cell_type": "code",
   "execution_count": 81,
   "id": "4a56c228",
   "metadata": {},
   "outputs": [
    {
     "data": {
      "text/plain": [
       "\"paul erdos and george polya were influential hungarian mathematicians who contributed a lot to the field erdos's name contains the hungarian letter 'o' 'o' with double acute accent but is often incorrectly written as erdos or erdos either by mistake or out of typographical necessity\""
      ]
     },
     "execution_count": 81,
     "metadata": {},
     "output_type": "execute_result"
    }
   ],
   "source": [
    "original"
   ]
  },
  {
   "cell_type": "code",
   "execution_count": 86,
   "id": "0c38db35",
   "metadata": {},
   "outputs": [],
   "source": [
    "#To add to this list\n",
    "stopwords_english.append('o')"
   ]
  },
  {
   "cell_type": "code",
   "execution_count": 87,
   "id": "1209fe3e",
   "metadata": {},
   "outputs": [
    {
     "data": {
      "text/plain": [
       "181"
      ]
     },
     "execution_count": 87,
     "metadata": {},
     "output_type": "execute_result"
    }
   ],
   "source": [
    "len(stopwords_english)"
   ]
  },
  {
   "cell_type": "code",
   "execution_count": 88,
   "id": "c00c8b0d",
   "metadata": {},
   "outputs": [
    {
     "data": {
      "text/plain": [
       "['paul',\n",
       " 'erdos',\n",
       " 'george',\n",
       " 'polya',\n",
       " 'influential',\n",
       " 'hungarian',\n",
       " 'mathematicians',\n",
       " 'contributed',\n",
       " 'lot',\n",
       " 'field',\n",
       " \"erdos's\",\n",
       " 'name',\n",
       " 'contains',\n",
       " 'hungarian',\n",
       " 'letter',\n",
       " \"'o'\",\n",
       " \"'o'\",\n",
       " 'double',\n",
       " 'acute',\n",
       " 'accent',\n",
       " 'often',\n",
       " 'incorrectly',\n",
       " 'written',\n",
       " 'erdos',\n",
       " 'erdos',\n",
       " 'either',\n",
       " 'mistake',\n",
       " 'typographical',\n",
       " 'necessity']"
      ]
     },
     "execution_count": 88,
     "metadata": {},
     "output_type": "execute_result"
    }
   ],
   "source": [
    "#Return only words in original that arent in the stopwords list\n",
    "[word for word in original.split() if word not in stopwords_english]"
   ]
  },
  {
   "cell_type": "markdown",
   "id": "c8118cd8",
   "metadata": {},
   "source": [
    "# Exercises"
   ]
  },
  {
   "cell_type": "markdown",
   "id": "c95e3e3b",
   "metadata": {},
   "source": [
    "### 1. Define a function named basic_clean. It should take in a string and apply some basic text cleaning to it:\n",
    "\n",
    "#### Lowercase everything\n",
    "#### Normalize unicode characters\n",
    "#### Replace anything that is not a letter, number, whitespace or a single quote."
   ]
  },
  {
   "cell_type": "code",
   "execution_count": 196,
   "id": "03e6a35d",
   "metadata": {},
   "outputs": [],
   "source": [
    "def basic_clean(string):\n",
    "    '''This function applies basic text cleaning to a given\n",
    "    string input, and returns the string after the methods have\n",
    "    been applied'''\n",
    "    #Make string lowercase\n",
    "    string = string.lower()\n",
    "    #Normalize unicode characters\n",
    "    string = unicodedata.normalize('NFKD', string).encode('ascii', 'ignore').decode('utf-8')\n",
    "    #Replace everything not a letter, number, whitespace or a single quote\n",
    "    string = re.sub('[^a-z0-9\\'\\s]', '', string)\n",
    "    \n",
    "    return string"
   ]
  },
  {
   "cell_type": "code",
   "execution_count": 106,
   "id": "408db562",
   "metadata": {},
   "outputs": [],
   "source": [
    "string = \"Paul Erdős and George Pólya were influential Hungarian mathematicians who contributed \\\n",
    "a lot to the field. Erdős's name contains the Hungarian letter 'ő' ('o' with double acute accent), \\\n",
    "but is often incorrectly written as Erdos or Erdös either by mistake or out of typographical necessity\""
   ]
  },
  {
   "cell_type": "code",
   "execution_count": 107,
   "id": "98b5f66d",
   "metadata": {},
   "outputs": [],
   "source": [
    "string_cleaned = basic_clean(string)"
   ]
  },
  {
   "cell_type": "code",
   "execution_count": 108,
   "id": "1f504a5c",
   "metadata": {},
   "outputs": [
    {
     "data": {
      "text/plain": [
       "\"paul erdos and george polya were influential hungarian mathematicians who contributed a lot to the field erdos's name contains the hungarian letter 'o' 'o' with double acute accent but is often incorrectly written as erdos or erdos either by mistake or out of typographical necessity\""
      ]
     },
     "execution_count": 108,
     "metadata": {},
     "output_type": "execute_result"
    }
   ],
   "source": [
    "string_cleaned"
   ]
  },
  {
   "cell_type": "markdown",
   "id": "54faa732",
   "metadata": {},
   "source": [
    "### 2. Define a function named tokenize. It should take in a string and tokenize all the words in the string."
   ]
  },
  {
   "cell_type": "code",
   "execution_count": 102,
   "id": "51e1a777",
   "metadata": {},
   "outputs": [],
   "source": [
    "#Initiate the object\n",
    "tokenize = nltk.tokenize.ToktokTokenizer()"
   ]
  },
  {
   "cell_type": "code",
   "execution_count": 103,
   "id": "904e383a",
   "metadata": {},
   "outputs": [
    {
     "data": {
      "text/plain": [
       "\"paul erdos and george polya were influential hungarian mathematicians who contributed a lot to the field erdos ' s name contains the hungarian letter ' o ' ' o ' with double acute accent but is often incorrectly written as erdos or erdos either by mistake or out of typographical necessity\""
      ]
     },
     "execution_count": 103,
     "metadata": {},
     "output_type": "execute_result"
    }
   ],
   "source": [
    "#Tokenizing the string\n",
    "tokenize =tokenize.tokenize(string, return_str=True)\n",
    "tokenize"
   ]
  },
  {
   "cell_type": "code",
   "execution_count": 111,
   "id": "1482b1e7",
   "metadata": {},
   "outputs": [],
   "source": [
    "def tokenize(string, return_str=True):\n",
    "    #Initiate the object\n",
    "    tokenize = nltk.tokenize.ToktokTokenizer()\n",
    "    #Tokenize the string, default of return string true\n",
    "    string_tokenized =tokenize.tokenize(string, return_str)\n",
    "    \n",
    "    return string_tokenized"
   ]
  },
  {
   "cell_type": "code",
   "execution_count": 112,
   "id": "ac86b7d0",
   "metadata": {},
   "outputs": [
    {
     "data": {
      "text/plain": [
       "\"paul erdos and george polya were influential hungarian mathematicians who contributed a lot to the field erdos ' s name contains the hungarian letter ' o ' ' o ' with double acute accent but is often incorrectly written as erdos or erdos either by mistake or out of typographical necessity\""
      ]
     },
     "execution_count": 112,
     "metadata": {},
     "output_type": "execute_result"
    }
   ],
   "source": [
    "string_tokenized = tokenize(string_cleaned, return_str=True)\n",
    "string_tokenized"
   ]
  },
  {
   "cell_type": "markdown",
   "id": "4e30147c",
   "metadata": {},
   "source": [
    "### 3. Define a function named stem. It should accept some text and return the text after applying stemming to all the words."
   ]
  },
  {
   "cell_type": "code",
   "execution_count": 113,
   "id": "173fa9fc",
   "metadata": {},
   "outputs": [
    {
     "data": {
      "text/plain": [
       "<PorterStemmer>"
      ]
     },
     "execution_count": 113,
     "metadata": {},
     "output_type": "execute_result"
    }
   ],
   "source": [
    "#Create the stem object\n",
    "ps = nltk.porter.PorterStemmer()\n",
    "ps"
   ]
  },
  {
   "cell_type": "code",
   "execution_count": 119,
   "id": "62e54bfa",
   "metadata": {},
   "outputs": [
    {
     "data": {
      "text/plain": [
       "['paul',\n",
       " 'erdo',\n",
       " 'and',\n",
       " 'georg',\n",
       " 'polya',\n",
       " 'were',\n",
       " 'influenti',\n",
       " 'hungarian',\n",
       " 'mathematician',\n",
       " 'who',\n",
       " 'contribut',\n",
       " 'a',\n",
       " 'lot',\n",
       " 'to',\n",
       " 'the',\n",
       " 'field',\n",
       " \"erdos'\",\n",
       " 'name',\n",
       " 'contain',\n",
       " 'the',\n",
       " 'hungarian',\n",
       " 'letter',\n",
       " \"'o'\",\n",
       " \"'o'\",\n",
       " 'with',\n",
       " 'doubl',\n",
       " 'acut',\n",
       " 'accent',\n",
       " 'but',\n",
       " 'is',\n",
       " 'often',\n",
       " 'incorrectli',\n",
       " 'written',\n",
       " 'as',\n",
       " 'erdo',\n",
       " 'or',\n",
       " 'erdo',\n",
       " 'either',\n",
       " 'by',\n",
       " 'mistak',\n",
       " 'or',\n",
       " 'out',\n",
       " 'of',\n",
       " 'typograph',\n",
       " 'necess']"
      ]
     },
     "execution_count": 119,
     "metadata": {},
     "output_type": "execute_result"
    }
   ],
   "source": [
    "#Use the object to make stems\n",
    "stems = [ps.stem(word) for word in string_cleaned.split()]\n",
    "stems"
   ]
  },
  {
   "cell_type": "code",
   "execution_count": 120,
   "id": "8ad5663c",
   "metadata": {},
   "outputs": [],
   "source": [
    "#Rejoin stems to make the string \"whole\"\n",
    "string_stemmed = ' '.join(stems)"
   ]
  },
  {
   "cell_type": "code",
   "execution_count": 121,
   "id": "f975bf95",
   "metadata": {},
   "outputs": [
    {
     "name": "stdout",
     "output_type": "stream",
     "text": [
      "paul erdo and georg polya were influenti hungarian mathematician who contribut a lot to the field erdos' name contain the hungarian letter 'o' 'o' with doubl acut accent but is often incorrectli written as erdo or erdo either by mistak or out of typograph necess\n"
     ]
    }
   ],
   "source": [
    "print(string_stemmed)"
   ]
  },
  {
   "cell_type": "code",
   "execution_count": 122,
   "id": "0d48ba23",
   "metadata": {},
   "outputs": [],
   "source": [
    "def stem(string):\n",
    "    '''This function accepts a string and returns a string\n",
    "    which has been stemmed'''\n",
    "    #Create the stem object\n",
    "    ps = nltk.porter.PorterStemmer()\n",
    "    #Stem the string input\n",
    "    stems = [ps.stem(word) for word in string.split()]\n",
    "    #Rejoin the stems to reform string\n",
    "    string_stemmed = ' '.join(stems)\n",
    "    #Return stemmed string\n",
    "    return string_stemmed"
   ]
  },
  {
   "cell_type": "code",
   "execution_count": 123,
   "id": "ff5b05ad",
   "metadata": {},
   "outputs": [],
   "source": [
    "string_stemmed = stem(string_cleaned)"
   ]
  },
  {
   "cell_type": "code",
   "execution_count": 124,
   "id": "1c348d65",
   "metadata": {},
   "outputs": [
    {
     "data": {
      "text/plain": [
       "\"paul erdo and georg polya were influenti hungarian mathematician who contribut a lot to the field erdos' name contain the hungarian letter 'o' 'o' with doubl acut accent but is often incorrectli written as erdo or erdo either by mistak or out of typograph necess\""
      ]
     },
     "execution_count": 124,
     "metadata": {},
     "output_type": "execute_result"
    }
   ],
   "source": [
    "string_stemmed"
   ]
  },
  {
   "cell_type": "markdown",
   "id": "e96f8754",
   "metadata": {},
   "source": [
    "### 4. Define a function named lemmatize. It should accept some text and return the text after applying lemmatization to each word."
   ]
  },
  {
   "cell_type": "code",
   "execution_count": 125,
   "id": "26e59e6e",
   "metadata": {},
   "outputs": [],
   "source": [
    "#Initialize the object\n",
    "wnl = nltk.stem.WordNetLemmatizer()"
   ]
  },
  {
   "cell_type": "code",
   "execution_count": 126,
   "id": "8e1725b2",
   "metadata": {},
   "outputs": [
    {
     "data": {
      "text/plain": [
       "<WordNetLemmatizer>"
      ]
     },
     "execution_count": 126,
     "metadata": {},
     "output_type": "execute_result"
    }
   ],
   "source": [
    "wnl"
   ]
  },
  {
   "cell_type": "code",
   "execution_count": 128,
   "id": "364058bd",
   "metadata": {},
   "outputs": [
    {
     "data": {
      "text/plain": [
       "['paul',\n",
       " 'erdos',\n",
       " 'and',\n",
       " 'george',\n",
       " 'polya',\n",
       " 'were',\n",
       " 'influential',\n",
       " 'hungarian',\n",
       " 'mathematician',\n",
       " 'who',\n",
       " 'contributed',\n",
       " 'a',\n",
       " 'lot',\n",
       " 'to',\n",
       " 'the',\n",
       " 'field',\n",
       " \"erdos's\",\n",
       " 'name',\n",
       " 'contains',\n",
       " 'the',\n",
       " 'hungarian',\n",
       " 'letter',\n",
       " \"'o'\",\n",
       " \"'o'\",\n",
       " 'with',\n",
       " 'double',\n",
       " 'acute',\n",
       " 'accent',\n",
       " 'but',\n",
       " 'is',\n",
       " 'often',\n",
       " 'incorrectly',\n",
       " 'written',\n",
       " 'a',\n",
       " 'erdos',\n",
       " 'or',\n",
       " 'erdos',\n",
       " 'either',\n",
       " 'by',\n",
       " 'mistake',\n",
       " 'or',\n",
       " 'out',\n",
       " 'of',\n",
       " 'typographical',\n",
       " 'necessity']"
      ]
     },
     "execution_count": 128,
     "metadata": {},
     "output_type": "execute_result"
    }
   ],
   "source": [
    "#Use the object to lemmatize the words\n",
    "lemmas = [wnl.lemmatize(word) for word in string_cleaned.split()]\n",
    "lemmas"
   ]
  },
  {
   "cell_type": "code",
   "execution_count": 129,
   "id": "db866e49",
   "metadata": {},
   "outputs": [
    {
     "data": {
      "text/plain": [
       "\"paul erdos and george polya were influential hungarian mathematician who contributed a lot to the field erdos's name contains the hungarian letter 'o' 'o' with double acute accent but is often incorrectly written a erdos or erdos either by mistake or out of typographical necessity\""
      ]
     },
     "execution_count": 129,
     "metadata": {},
     "output_type": "execute_result"
    }
   ],
   "source": [
    "#Rejoin the lemmatized words in the string to reform the string\n",
    "string_lemmatized = ' '.join(lemmas)\n",
    "string_lemmatized"
   ]
  },
  {
   "cell_type": "code",
   "execution_count": 130,
   "id": "2d990e7d",
   "metadata": {},
   "outputs": [],
   "source": [
    "def lemmatized(string):\n",
    "    '''This function accepts a string input and applies lemmatization\n",
    "    to the string, returning the lemmatized string'''\n",
    "    #Initialize the object\n",
    "    wnl = nltk.stem.WordNetLemmatizer()\n",
    "    #Use the object to lemmatize the words\n",
    "    lemmas = [wnl.lemmatize(word) for word in string_cleaned.split()]\n",
    "    #Rejoin the lemmatized words in the string to reform the string\n",
    "    string_lemmatized = ' '.join(lemmas)\n",
    "    \n",
    "    return string_lemmatized"
   ]
  },
  {
   "cell_type": "code",
   "execution_count": 131,
   "id": "d0077c9b",
   "metadata": {},
   "outputs": [
    {
     "data": {
      "text/plain": [
       "\"paul erdos and george polya were influential hungarian mathematician who contributed a lot to the field erdos's name contains the hungarian letter 'o' 'o' with double acute accent but is often incorrectly written a erdos or erdos either by mistake or out of typographical necessity\""
      ]
     },
     "execution_count": 131,
     "metadata": {},
     "output_type": "execute_result"
    }
   ],
   "source": [
    "string_lemmatized = lemmatized(string_cleaned)\n",
    "string_lemmatized"
   ]
  },
  {
   "cell_type": "markdown",
   "id": "235b40ef",
   "metadata": {},
   "source": [
    "### 5. Define a function named remove_stopwords. It should accept some text and return the text after removing all the stopwords"
   ]
  },
  {
   "cell_type": "code",
   "execution_count": 132,
   "id": "f154500a",
   "metadata": {},
   "outputs": [],
   "source": [
    "#Create a list of stopwords in specified language\n",
    "stopwords_english = stopwords.words('english')"
   ]
  },
  {
   "cell_type": "code",
   "execution_count": 134,
   "id": "4af2000f",
   "metadata": {},
   "outputs": [],
   "source": [
    "#Turn string into a list\n",
    "words = string.split()"
   ]
  },
  {
   "cell_type": "code",
   "execution_count": null,
   "id": "99d5acad",
   "metadata": {},
   "outputs": [],
   "source": [
    "filtered_words = [w for w in words if w not in stopword_list]"
   ]
  },
  {
   "cell_type": "code",
   "execution_count": null,
   "id": "2e28b073",
   "metadata": {},
   "outputs": [],
   "source": [
    "string_without_stopwords = ' '.join(filtered_words)"
   ]
  },
  {
   "cell_type": "code",
   "execution_count": 142,
   "id": "6b415da5",
   "metadata": {},
   "outputs": [],
   "source": [
    "def remove_stopwords(string, language='english'):\n",
    "    #define the language used, creating a list\n",
    "    stopword_language = stopwords.words(language)\n",
    "    #Turn string into a list\n",
    "    words = string.split()\n",
    "    #Apply filter to string\n",
    "    filtered_words = [w for w in words if w not in stopword_language]\n",
    "    #Place string back together\n",
    "    string_without_stopwords = ' '.join(filtered_words)\n",
    "    \n",
    "    return string_without_stopwords"
   ]
  },
  {
   "cell_type": "code",
   "execution_count": 143,
   "id": "14eca9e3",
   "metadata": {},
   "outputs": [],
   "source": [
    "string_without_stopwords = remove_stopwords(string_cleaned, language='english')"
   ]
  },
  {
   "cell_type": "code",
   "execution_count": 144,
   "id": "bb06b807",
   "metadata": {},
   "outputs": [
    {
     "data": {
      "text/plain": [
       "\"paul erdos george polya influential hungarian mathematicians contributed lot field erdos's name contains hungarian letter 'o' 'o' double acute accent often incorrectly written erdos erdos either mistake typographical necessity\""
      ]
     },
     "execution_count": 144,
     "metadata": {},
     "output_type": "execute_result"
    }
   ],
   "source": [
    "string_without_stopwords"
   ]
  },
  {
   "cell_type": "markdown",
   "id": "f38d64c7",
   "metadata": {},
   "source": [
    "### 6. Use your data from the acquire to produce a dataframe of the news articles. Name the dataframe news_df"
   ]
  },
  {
   "cell_type": "code",
   "execution_count": 146,
   "id": "cb347d3c",
   "metadata": {},
   "outputs": [],
   "source": [
    "url = 'https://inshorts.com/en/read'\n",
    "response = get(url)\n",
    "soup = BeautifulSoup(response.content, 'html.parser')"
   ]
  },
  {
   "cell_type": "code",
   "execution_count": 147,
   "id": "90ad460e",
   "metadata": {},
   "outputs": [],
   "source": [
    "# catorgories = ['business', 'sports', 'technology', 'entertainment']\n",
    "categories = [li.text.lower() for li in soup.select('li')][1:]\n",
    "categories[0] = 'national'\n",
    "\n",
    "inshorts = []\n",
    "\n",
    "for category in categories:\n",
    "    \n",
    "    url = 'https://inshorts.com/en/read' + '/' + category\n",
    "    response = get(url)\n",
    "    soup = BeautifulSoup(response.content, 'html.parser')\n",
    "    \n",
    "    titles = [span.text for span in soup.find_all('span', itemprop='headline')]\n",
    "    contents = [div.text for div in soup.find_all('div', itemprop='articleBody')]\n",
    "    \n",
    "    for i in range(len(titles)):\n",
    "        \n",
    "        article = {\n",
    "            'title': titles[i],\n",
    "            'content': contents[i],\n",
    "            'category': category,\n",
    "        }\n",
    "        \n",
    "        inshorts.append(article)"
   ]
  },
  {
   "cell_type": "code",
   "execution_count": 149,
   "id": "051fb717",
   "metadata": {},
   "outputs": [
    {
     "data": {
      "text/html": [
       "<div>\n",
       "<style scoped>\n",
       "    .dataframe tbody tr th:only-of-type {\n",
       "        vertical-align: middle;\n",
       "    }\n",
       "\n",
       "    .dataframe tbody tr th {\n",
       "        vertical-align: top;\n",
       "    }\n",
       "\n",
       "    .dataframe thead th {\n",
       "        text-align: right;\n",
       "    }\n",
       "</style>\n",
       "<table border=\"1\" class=\"dataframe\">\n",
       "  <thead>\n",
       "    <tr style=\"text-align: right;\">\n",
       "      <th></th>\n",
       "      <th>title</th>\n",
       "      <th>content</th>\n",
       "      <th>category</th>\n",
       "    </tr>\n",
       "  </thead>\n",
       "  <tbody>\n",
       "    <tr>\n",
       "      <th>0</th>\n",
       "      <td>Moscow-Goa flight gets bomb threat, makes emer...</td>\n",
       "      <td>A Goa-bound flight from Russia's Moscow made a...</td>\n",
       "      <td>national</td>\n",
       "    </tr>\n",
       "    <tr>\n",
       "      <th>1</th>\n",
       "      <td>Joshimath divided into 3 zones, govt says most...</td>\n",
       "      <td>Uttarakhand's Joshimath, where a majority of b...</td>\n",
       "      <td>national</td>\n",
       "    </tr>\n",
       "    <tr>\n",
       "      <th>2</th>\n",
       "      <td>Which states have reported COVID-19 variant XB...</td>\n",
       "      <td>One new case of COVID-19 variant XBB.1.5, whic...</td>\n",
       "      <td>national</td>\n",
       "    </tr>\n",
       "    <tr>\n",
       "      <th>3</th>\n",
       "      <td>I decided to wear t-shirt till I shiver after ...</td>\n",
       "      <td>Congress leader Rahul Gandhi on Monday told re...</td>\n",
       "      <td>national</td>\n",
       "    </tr>\n",
       "    <tr>\n",
       "      <th>4</th>\n",
       "      <td>Vistara's Bhubaneswar-bound flight returns to ...</td>\n",
       "      <td>Vistara's flight UK 781 operating from Delhi t...</td>\n",
       "      <td>national</td>\n",
       "    </tr>\n",
       "    <tr>\n",
       "      <th>...</th>\n",
       "      <td>...</td>\n",
       "      <td>...</td>\n",
       "      <td>...</td>\n",
       "    </tr>\n",
       "    <tr>\n",
       "      <th>292</th>\n",
       "      <td>Electric two-wheeler sales cross 6-lakh mark i...</td>\n",
       "      <td>Electric two-wheeler (E2W) sales in 2022 hit a...</td>\n",
       "      <td>automobile</td>\n",
       "    </tr>\n",
       "    <tr>\n",
       "      <th>293</th>\n",
       "      <td>Tesla shares fall further after firm misses 20...</td>\n",
       "      <td>Tesla's shares, which dipped roughly 65% last ...</td>\n",
       "      <td>automobile</td>\n",
       "    </tr>\n",
       "    <tr>\n",
       "      <th>294</th>\n",
       "      <td>Tesla cuts Model 3, Model Y prices in China fo...</td>\n",
       "      <td>Tesla on Friday reduced prices for its Model 3...</td>\n",
       "      <td>automobile</td>\n",
       "    </tr>\n",
       "    <tr>\n",
       "      <th>295</th>\n",
       "      <td>Tesla owners in China demand refund after sudd...</td>\n",
       "      <td>Around 200 recent buyers of Tesla's Model Y an...</td>\n",
       "      <td>automobile</td>\n",
       "    </tr>\n",
       "    <tr>\n",
       "      <th>296</th>\n",
       "      <td>Weakening rupee could force us to raise domest...</td>\n",
       "      <td>Mercedes-Benz India Managing Director Santosh ...</td>\n",
       "      <td>automobile</td>\n",
       "    </tr>\n",
       "  </tbody>\n",
       "</table>\n",
       "<p>297 rows × 3 columns</p>\n",
       "</div>"
      ],
      "text/plain": [
       "                                                 title  \\\n",
       "0    Moscow-Goa flight gets bomb threat, makes emer...   \n",
       "1    Joshimath divided into 3 zones, govt says most...   \n",
       "2    Which states have reported COVID-19 variant XB...   \n",
       "3    I decided to wear t-shirt till I shiver after ...   \n",
       "4    Vistara's Bhubaneswar-bound flight returns to ...   \n",
       "..                                                 ...   \n",
       "292  Electric two-wheeler sales cross 6-lakh mark i...   \n",
       "293  Tesla shares fall further after firm misses 20...   \n",
       "294  Tesla cuts Model 3, Model Y prices in China fo...   \n",
       "295  Tesla owners in China demand refund after sudd...   \n",
       "296  Weakening rupee could force us to raise domest...   \n",
       "\n",
       "                                               content    category  \n",
       "0    A Goa-bound flight from Russia's Moscow made a...    national  \n",
       "1    Uttarakhand's Joshimath, where a majority of b...    national  \n",
       "2    One new case of COVID-19 variant XBB.1.5, whic...    national  \n",
       "3    Congress leader Rahul Gandhi on Monday told re...    national  \n",
       "4    Vistara's flight UK 781 operating from Delhi t...    national  \n",
       "..                                                 ...         ...  \n",
       "292  Electric two-wheeler (E2W) sales in 2022 hit a...  automobile  \n",
       "293  Tesla's shares, which dipped roughly 65% last ...  automobile  \n",
       "294  Tesla on Friday reduced prices for its Model 3...  automobile  \n",
       "295  Around 200 recent buyers of Tesla's Model Y an...  automobile  \n",
       "296  Mercedes-Benz India Managing Director Santosh ...  automobile  \n",
       "\n",
       "[297 rows x 3 columns]"
      ]
     },
     "execution_count": 149,
     "metadata": {},
     "output_type": "execute_result"
    }
   ],
   "source": [
    "news_df = pd.DataFrame(inshorts)\n",
    "news_df"
   ]
  },
  {
   "cell_type": "markdown",
   "id": "97e83162",
   "metadata": {},
   "source": [
    "### 7. Make another dataframe for the Codeup blog posts. Name the dataframe codeup_df."
   ]
  },
  {
   "cell_type": "code",
   "execution_count": 158,
   "id": "be040c64",
   "metadata": {},
   "outputs": [],
   "source": [
    "codeup_url = 'https://codeup.com/blog/'"
   ]
  },
  {
   "cell_type": "code",
   "execution_count": 162,
   "id": "704680eb",
   "metadata": {},
   "outputs": [],
   "source": [
    "headers = {'User-Agent': 'Codeup Data Science'}\n",
    "response = requests.get(url, headers=headers)"
   ]
  },
  {
   "cell_type": "code",
   "execution_count": 165,
   "id": "14dca328",
   "metadata": {},
   "outputs": [
    {
     "data": {
      "text/plain": [
       "<Response [200]>"
      ]
     },
     "execution_count": 165,
     "metadata": {},
     "output_type": "execute_result"
    }
   ],
   "source": [
    "response"
   ]
  },
  {
   "cell_type": "code",
   "execution_count": 166,
   "id": "75589d70",
   "metadata": {},
   "outputs": [],
   "source": [
    "def get_blog_urls(codeup_url, header = {'User-Agent': 'Codeup Data Science'}):\n",
    "    soup = BeautifulSoup(requests.get(codeup_url, headers=header).content, 'html.parser')\n",
    "    return [link['href'] for link in soup.select('a.more-link')]"
   ]
  },
  {
   "cell_type": "code",
   "execution_count": 168,
   "id": "2d7c5353",
   "metadata": {},
   "outputs": [
    {
     "data": {
      "text/plain": [
       "['https://codeup.com/data-science/become-a-data-scientist/',\n",
       " 'https://codeup.com/employers/hiring-tech-talent/',\n",
       " 'https://codeup.com/cloud-administration/cap-funding-options/',\n",
       " 'https://codeup.com/dallas-info/it-professionals-dallas/',\n",
       " 'https://codeup.com/codeup-news/codeup-voted-1-technical-school-in-dfw/',\n",
       " 'https://codeup.com/tips-for-prospective-students/financing/codeups-scholarships/']"
      ]
     },
     "execution_count": 168,
     "metadata": {},
     "output_type": "execute_result"
    }
   ],
   "source": [
    "get_blog_urls(codeup_url, header = {'User-Agent': 'Codeup Data Science'})"
   ]
  },
  {
   "cell_type": "code",
   "execution_count": 203,
   "id": "8797a46a",
   "metadata": {},
   "outputs": [],
   "source": [
    "def get_blog_articles(url):\n",
    "    urls = get_blog_urls(url, header = {'User-Agent': 'Codeup Data Science'})\n",
    "    headers = {'User-Agent': 'Codeup Data Science'}\n",
    "    output = []\n",
    "    for blog in urls:\n",
    "        article = BeautifulSoup(requests.get(blog, headers=headers).content)\n",
    "        blog_output = {'title': article.select_one('h1.entry-title').text, 'content': article.select_one('div.entry-content').text.strip()}\n",
    "        output.append(blog_output)\n",
    "        \n",
    "    return pd.DataFrame(output)"
   ]
  },
  {
   "cell_type": "code",
   "execution_count": 247,
   "id": "cb811779",
   "metadata": {},
   "outputs": [],
   "source": [
    "codeup_df = get_blog_articles(codeup_url)"
   ]
  },
  {
   "cell_type": "code",
   "execution_count": 248,
   "id": "4e19f9e3",
   "metadata": {},
   "outputs": [
    {
     "data": {
      "text/html": [
       "<div>\n",
       "<style scoped>\n",
       "    .dataframe tbody tr th:only-of-type {\n",
       "        vertical-align: middle;\n",
       "    }\n",
       "\n",
       "    .dataframe tbody tr th {\n",
       "        vertical-align: top;\n",
       "    }\n",
       "\n",
       "    .dataframe thead th {\n",
       "        text-align: right;\n",
       "    }\n",
       "</style>\n",
       "<table border=\"1\" class=\"dataframe\">\n",
       "  <thead>\n",
       "    <tr style=\"text-align: right;\">\n",
       "      <th></th>\n",
       "      <th>title</th>\n",
       "      <th>content</th>\n",
       "    </tr>\n",
       "  </thead>\n",
       "  <tbody>\n",
       "    <tr>\n",
       "      <th>0</th>\n",
       "      <td>Become a Data Scientist in 6 Months!</td>\n",
       "      <td>Are you feeling unfulfilled in your work but w...</td>\n",
       "    </tr>\n",
       "    <tr>\n",
       "      <th>1</th>\n",
       "      <td>Hiring Tech Talent Around the Holidays</td>\n",
       "      <td>Are you a hiring manager having trouble fillin...</td>\n",
       "    </tr>\n",
       "    <tr>\n",
       "      <th>2</th>\n",
       "      <td>Cloud Administration Program New Funding Options</td>\n",
       "      <td>Finding resources to fund your educational goa...</td>\n",
       "    </tr>\n",
       "    <tr>\n",
       "      <th>3</th>\n",
       "      <td>Why Dallas is a Great Location for IT Professi...</td>\n",
       "      <td>When breaking into a new career, it is importa...</td>\n",
       "    </tr>\n",
       "    <tr>\n",
       "      <th>4</th>\n",
       "      <td>Codeup is ranked #1 Best in DFW 2022</td>\n",
       "      <td>We are excited to announce that Codeup ranked ...</td>\n",
       "    </tr>\n",
       "    <tr>\n",
       "      <th>5</th>\n",
       "      <td>Codeup’s Scholarship Offerings</td>\n",
       "      <td>In honor of November being National Scholarshi...</td>\n",
       "    </tr>\n",
       "  </tbody>\n",
       "</table>\n",
       "</div>"
      ],
      "text/plain": [
       "                                               title  \\\n",
       "0               Become a Data Scientist in 6 Months!   \n",
       "1             Hiring Tech Talent Around the Holidays   \n",
       "2   Cloud Administration Program New Funding Options   \n",
       "3  Why Dallas is a Great Location for IT Professi...   \n",
       "4               Codeup is ranked #1 Best in DFW 2022   \n",
       "5                     Codeup’s Scholarship Offerings   \n",
       "\n",
       "                                             content  \n",
       "0  Are you feeling unfulfilled in your work but w...  \n",
       "1  Are you a hiring manager having trouble fillin...  \n",
       "2  Finding resources to fund your educational goa...  \n",
       "3  When breaking into a new career, it is importa...  \n",
       "4  We are excited to announce that Codeup ranked ...  \n",
       "5  In honor of November being National Scholarshi...  "
      ]
     },
     "execution_count": 248,
     "metadata": {},
     "output_type": "execute_result"
    }
   ],
   "source": [
    "codeup_df"
   ]
  },
  {
   "cell_type": "markdown",
   "id": "9204fe9e",
   "metadata": {},
   "source": [
    "### 8. For each dataframe, produce the following columns:\n",
    "\n",
    "* title to hold the title\n",
    "* original to hold the original article/post content\n",
    "* clean to hold the normalized and tokenized original with the stopwords removed.\n",
    "* stemmed to hold the stemmed version of the cleaned data.\n",
    "* lemmatized to hold the lemmatized version of the cleaned data."
   ]
  },
  {
   "cell_type": "markdown",
   "id": "c4f80607",
   "metadata": {},
   "source": [
    "#### Codeup DF"
   ]
  },
  {
   "cell_type": "code",
   "execution_count": 178,
   "id": "8ca376d4",
   "metadata": {},
   "outputs": [],
   "source": [
    "codeup_df = codeup_df.rename(columns={'content' : 'original'})"
   ]
  },
  {
   "cell_type": "code",
   "execution_count": 179,
   "id": "868b02fc",
   "metadata": {},
   "outputs": [
    {
     "data": {
      "text/plain": [
       "'Are you feeling unfulfilled in your work but want to avoid returning to the traditional educational route? Codeup can help! Starting over as a professional is daunting and not always ideal. Codeup can help you go from a career you are bored with, to a job that excites you in just 6 months!\\nHere’s how…\\nData Science Program\\nDuring our 20-week program, you will have the opportunity to take your career to new heights with data science being one of the most needed jobs in tech.\\nYou’ll gather data, then clean it, explore it for trends, and apply machine learning models to make predictions.\\nUpon completing this program, you will know how to turn insights into actionable recommendations. You’ll be a huge asset to any company, having all the technical skills to become a data scientist with projects upon projects of experience under your belt.\\nCodeup\\nA common reason individuals opt not to change their careers is fear it is too late. Codeup has crafted a program that will guide you through your career transition and prove that you can jumpstart a new job at any age and experience level.\\nWhen you decide to attend Codeup, you get a support system. First, our admissions team will guide you through getting started as well as assist with getting your financial aid squared away.\\nOnce your program begins, you will have industry experts as your instructors who will help you reach your full potential and complete the program successfully.\\nNext, you will have a student experience team ready to assist you with navigating through the program and any of life’s obstacles that may arise.\\nFinally, you have a placement team to help you secure the job you’ll work so hard to land!\\n\\nIf you do not land a job within six months of completing a Codeup program, we will refund 100% of your paid tuition.\\nIf you aren’t sure if a career in data science is right for you, consider attending our 100% free instructor-led workshops. These workshops are designed to give you a taste of what you’ll learn in our programs, as well as give you information on financial aid and admissions.\\nWe can also provide program-specific information to your inbox at any time! Get started now or give us a call at (210) 802-7289 and we’ll walk you through the process.\\nJumpstart your tech career with the first and only accredited bootcamp in Texas!*\\n*Codeup is accredited for postsecondary, non-degree granting, career and technology programs by the Middle States Commission on Secondary Schools of the Middle States Association of Colleges and Schools, 3624 Market Street, Philadelphia, PA 19104, (267) 284-5000'"
      ]
     },
     "execution_count": 179,
     "metadata": {},
     "output_type": "execute_result"
    }
   ],
   "source": [
    "codeup_df.original[0]"
   ]
  },
  {
   "cell_type": "code",
   "execution_count": 235,
   "id": "b64f3399",
   "metadata": {},
   "outputs": [],
   "source": [
    "codeup_df = clean_blog_content(codeup_df)"
   ]
  },
  {
   "cell_type": "code",
   "execution_count": 236,
   "id": "f09f39d7",
   "metadata": {},
   "outputs": [
    {
     "data": {
      "text/html": [
       "<div>\n",
       "<style scoped>\n",
       "    .dataframe tbody tr th:only-of-type {\n",
       "        vertical-align: middle;\n",
       "    }\n",
       "\n",
       "    .dataframe tbody tr th {\n",
       "        vertical-align: top;\n",
       "    }\n",
       "\n",
       "    .dataframe thead th {\n",
       "        text-align: right;\n",
       "    }\n",
       "</style>\n",
       "<table border=\"1\" class=\"dataframe\">\n",
       "  <thead>\n",
       "    <tr style=\"text-align: right;\">\n",
       "      <th></th>\n",
       "      <th>title</th>\n",
       "      <th>original</th>\n",
       "      <th>clean</th>\n",
       "    </tr>\n",
       "  </thead>\n",
       "  <tbody>\n",
       "    <tr>\n",
       "      <th>0</th>\n",
       "      <td>Become a Data Scientist in 6 Months!</td>\n",
       "      <td>Are you feeling unfulfilled in your work but w...</td>\n",
       "      <td>Are you feeling unfulfilled in your work but w...</td>\n",
       "    </tr>\n",
       "    <tr>\n",
       "      <th>1</th>\n",
       "      <td>Hiring Tech Talent Around the Holidays</td>\n",
       "      <td>Are you a hiring manager having trouble fillin...</td>\n",
       "      <td>Are you a hiring manager having trouble fillin...</td>\n",
       "    </tr>\n",
       "    <tr>\n",
       "      <th>2</th>\n",
       "      <td>Cloud Administration Program New Funding Options</td>\n",
       "      <td>Finding resources to fund your educational goa...</td>\n",
       "      <td>Finding resources to fund your educational goa...</td>\n",
       "    </tr>\n",
       "    <tr>\n",
       "      <th>3</th>\n",
       "      <td>Why Dallas is a Great Location for IT Professi...</td>\n",
       "      <td>When breaking into a new career, it is importa...</td>\n",
       "      <td>When breaking into a new career, it is importa...</td>\n",
       "    </tr>\n",
       "    <tr>\n",
       "      <th>4</th>\n",
       "      <td>Codeup is ranked #1 Best in DFW 2022</td>\n",
       "      <td>We are excited to announce that Codeup ranked ...</td>\n",
       "      <td>We are excited to announce that Codeup ranked ...</td>\n",
       "    </tr>\n",
       "    <tr>\n",
       "      <th>5</th>\n",
       "      <td>Codeup’s Scholarship Offerings</td>\n",
       "      <td>In honor of November being National Scholarshi...</td>\n",
       "      <td>In honor of November being National Scholarshi...</td>\n",
       "    </tr>\n",
       "  </tbody>\n",
       "</table>\n",
       "</div>"
      ],
      "text/plain": [
       "                                               title  \\\n",
       "0               Become a Data Scientist in 6 Months!   \n",
       "1             Hiring Tech Talent Around the Holidays   \n",
       "2   Cloud Administration Program New Funding Options   \n",
       "3  Why Dallas is a Great Location for IT Professi...   \n",
       "4               Codeup is ranked #1 Best in DFW 2022   \n",
       "5                     Codeup’s Scholarship Offerings   \n",
       "\n",
       "                                            original  \\\n",
       "0  Are you feeling unfulfilled in your work but w...   \n",
       "1  Are you a hiring manager having trouble fillin...   \n",
       "2  Finding resources to fund your educational goa...   \n",
       "3  When breaking into a new career, it is importa...   \n",
       "4  We are excited to announce that Codeup ranked ...   \n",
       "5  In honor of November being National Scholarshi...   \n",
       "\n",
       "                                               clean  \n",
       "0  Are you feeling unfulfilled in your work but w...  \n",
       "1  Are you a hiring manager having trouble fillin...  \n",
       "2  Finding resources to fund your educational goa...  \n",
       "3  When breaking into a new career, it is importa...  \n",
       "4  We are excited to announce that Codeup ranked ...  \n",
       "5  In honor of November being National Scholarshi...  "
      ]
     },
     "execution_count": 236,
     "metadata": {},
     "output_type": "execute_result"
    }
   ],
   "source": [
    "codeup_df"
   ]
  },
  {
   "cell_type": "code",
   "execution_count": 175,
   "id": "6527b2a0",
   "metadata": {},
   "outputs": [
    {
     "data": {
      "text/plain": [
       "Index(['title', 'content'], dtype='object')"
      ]
     },
     "execution_count": 175,
     "metadata": {},
     "output_type": "execute_result"
    }
   ],
   "source": [
    "codeup_df.columns"
   ]
  },
  {
   "cell_type": "code",
   "execution_count": 195,
   "id": "769313a2",
   "metadata": {},
   "outputs": [
    {
     "data": {
      "text/plain": [
       "'in honor of november being national scholarship month wed like to highlight codeups current internal scholarship offerings\\nthese scholarships are open to anyone who fits the criteria codeup values a diverse workspace and we encourage everyone regardless of background to pursue the career they desire weve crafted the following scholarships to assist in funding a career change with codeup\\n\\nwomen in tech scholarship\\nthis scholarship is available to all women we define women as anyone who identifies themselves as a woman including transgender genderqueer and nonbinary women\\nannie easley scholarship\\nthis scholarship is available to students who identify as black or africanamerican\\nminorities in tech scholarship\\nthis scholarship is open to anyone who identifies as part of a minority group\\npride scholarship\\nthis scholarship is open to anyone who identifies as part of the lgbtqia community\\nveteran scholarship\\nthis scholarship is open to military veterans and military dependents\\nfirst responders scholarship\\nthis scholarship is open to current and former first responders\\ncovid19 relief scholarship\\nthis scholarship is open to anyone affected by covid19\\n\\napplicants are welcome to apply for scholarships at any point but they are only awarded after youve been accepted into one of codeups programs if you havent yet please get started with your codeup application by clicking here'"
      ]
     },
     "execution_count": 195,
     "metadata": {},
     "output_type": "execute_result"
    }
   ],
   "source": [
    "article"
   ]
  },
  {
   "cell_type": "code",
   "execution_count": null,
   "id": "c1088d1e",
   "metadata": {},
   "outputs": [],
   "source": [
    "df['clean'] = df.original.copy()"
   ]
  },
  {
   "cell_type": "code",
   "execution_count": 220,
   "id": "2bce57dc",
   "metadata": {},
   "outputs": [],
   "source": [
    "test_df = codeup_df.rename(columns={'content' : 'original'})\n",
    "#codeu_df['clean'] = codeup_df['original'].copy()"
   ]
  },
  {
   "cell_type": "code",
   "execution_count": 249,
   "id": "8e1ebff5",
   "metadata": {},
   "outputs": [],
   "source": [
    "test_df = codeup_df.copy()"
   ]
  },
  {
   "cell_type": "code",
   "execution_count": 254,
   "id": "50af2350",
   "metadata": {},
   "outputs": [
    {
     "data": {
      "text/html": [
       "<div>\n",
       "<style scoped>\n",
       "    .dataframe tbody tr th:only-of-type {\n",
       "        vertical-align: middle;\n",
       "    }\n",
       "\n",
       "    .dataframe tbody tr th {\n",
       "        vertical-align: top;\n",
       "    }\n",
       "\n",
       "    .dataframe thead th {\n",
       "        text-align: right;\n",
       "    }\n",
       "</style>\n",
       "<table border=\"1\" class=\"dataframe\">\n",
       "  <thead>\n",
       "    <tr style=\"text-align: right;\">\n",
       "      <th></th>\n",
       "      <th>title</th>\n",
       "      <th>content</th>\n",
       "    </tr>\n",
       "  </thead>\n",
       "  <tbody>\n",
       "    <tr>\n",
       "      <th>0</th>\n",
       "      <td>Become a Data Scientist in 6 Months!</td>\n",
       "      <td>Are you feeling unfulfilled in your work but w...</td>\n",
       "    </tr>\n",
       "    <tr>\n",
       "      <th>1</th>\n",
       "      <td>Hiring Tech Talent Around the Holidays</td>\n",
       "      <td>Are you a hiring manager having trouble fillin...</td>\n",
       "    </tr>\n",
       "    <tr>\n",
       "      <th>2</th>\n",
       "      <td>Cloud Administration Program New Funding Options</td>\n",
       "      <td>Finding resources to fund your educational goa...</td>\n",
       "    </tr>\n",
       "    <tr>\n",
       "      <th>3</th>\n",
       "      <td>Why Dallas is a Great Location for IT Professi...</td>\n",
       "      <td>When breaking into a new career, it is importa...</td>\n",
       "    </tr>\n",
       "    <tr>\n",
       "      <th>4</th>\n",
       "      <td>Codeup is ranked #1 Best in DFW 2022</td>\n",
       "      <td>We are excited to announce that Codeup ranked ...</td>\n",
       "    </tr>\n",
       "    <tr>\n",
       "      <th>5</th>\n",
       "      <td>Codeup’s Scholarship Offerings</td>\n",
       "      <td>In honor of November being National Scholarshi...</td>\n",
       "    </tr>\n",
       "  </tbody>\n",
       "</table>\n",
       "</div>"
      ],
      "text/plain": [
       "                                               title  \\\n",
       "0               Become a Data Scientist in 6 Months!   \n",
       "1             Hiring Tech Talent Around the Holidays   \n",
       "2   Cloud Administration Program New Funding Options   \n",
       "3  Why Dallas is a Great Location for IT Professi...   \n",
       "4               Codeup is ranked #1 Best in DFW 2022   \n",
       "5                     Codeup’s Scholarship Offerings   \n",
       "\n",
       "                                             content  \n",
       "0  Are you feeling unfulfilled in your work but w...  \n",
       "1  Are you a hiring manager having trouble fillin...  \n",
       "2  Finding resources to fund your educational goa...  \n",
       "3  When breaking into a new career, it is importa...  \n",
       "4  We are excited to announce that Codeup ranked ...  \n",
       "5  In honor of November being National Scholarshi...  "
      ]
     },
     "execution_count": 254,
     "metadata": {},
     "output_type": "execute_result"
    }
   ],
   "source": [
    "codeup_df"
   ]
  },
  {
   "cell_type": "code",
   "execution_count": 269,
   "id": "737b6acb",
   "metadata": {},
   "outputs": [],
   "source": [
    "codeup_df = get_blog_articles(codeup_url)"
   ]
  },
  {
   "cell_type": "code",
   "execution_count": 273,
   "id": "a425d139",
   "metadata": {},
   "outputs": [
    {
     "data": {
      "text/html": [
       "<div>\n",
       "<style scoped>\n",
       "    .dataframe tbody tr th:only-of-type {\n",
       "        vertical-align: middle;\n",
       "    }\n",
       "\n",
       "    .dataframe tbody tr th {\n",
       "        vertical-align: top;\n",
       "    }\n",
       "\n",
       "    .dataframe thead th {\n",
       "        text-align: right;\n",
       "    }\n",
       "</style>\n",
       "<table border=\"1\" class=\"dataframe\">\n",
       "  <thead>\n",
       "    <tr style=\"text-align: right;\">\n",
       "      <th></th>\n",
       "      <th>title</th>\n",
       "      <th>content</th>\n",
       "    </tr>\n",
       "  </thead>\n",
       "  <tbody>\n",
       "    <tr>\n",
       "      <th>0</th>\n",
       "      <td>Become a Data Scientist in 6 Months!</td>\n",
       "      <td>Are you feeling unfulfilled in your work but w...</td>\n",
       "    </tr>\n",
       "    <tr>\n",
       "      <th>1</th>\n",
       "      <td>Hiring Tech Talent Around the Holidays</td>\n",
       "      <td>Are you a hiring manager having trouble fillin...</td>\n",
       "    </tr>\n",
       "    <tr>\n",
       "      <th>2</th>\n",
       "      <td>Cloud Administration Program New Funding Options</td>\n",
       "      <td>Finding resources to fund your educational goa...</td>\n",
       "    </tr>\n",
       "    <tr>\n",
       "      <th>3</th>\n",
       "      <td>Why Dallas is a Great Location for IT Professi...</td>\n",
       "      <td>When breaking into a new career, it is importa...</td>\n",
       "    </tr>\n",
       "    <tr>\n",
       "      <th>4</th>\n",
       "      <td>Codeup is ranked #1 Best in DFW 2022</td>\n",
       "      <td>We are excited to announce that Codeup ranked ...</td>\n",
       "    </tr>\n",
       "    <tr>\n",
       "      <th>5</th>\n",
       "      <td>Codeup’s Scholarship Offerings</td>\n",
       "      <td>In honor of November being National Scholarshi...</td>\n",
       "    </tr>\n",
       "  </tbody>\n",
       "</table>\n",
       "</div>"
      ],
      "text/plain": [
       "                                               title  \\\n",
       "0               Become a Data Scientist in 6 Months!   \n",
       "1             Hiring Tech Talent Around the Holidays   \n",
       "2   Cloud Administration Program New Funding Options   \n",
       "3  Why Dallas is a Great Location for IT Professi...   \n",
       "4               Codeup is ranked #1 Best in DFW 2022   \n",
       "5                     Codeup’s Scholarship Offerings   \n",
       "\n",
       "                                             content  \n",
       "0  Are you feeling unfulfilled in your work but w...  \n",
       "1  Are you a hiring manager having trouble fillin...  \n",
       "2  Finding resources to fund your educational goa...  \n",
       "3  When breaking into a new career, it is importa...  \n",
       "4  We are excited to announce that Codeup ranked ...  \n",
       "5  In honor of November being National Scholarshi...  "
      ]
     },
     "execution_count": 273,
     "metadata": {},
     "output_type": "execute_result"
    }
   ],
   "source": [
    "codeup_df"
   ]
  },
  {
   "cell_type": "code",
   "execution_count": 274,
   "id": "d437fd37",
   "metadata": {},
   "outputs": [],
   "source": [
    "#Rename column from content to original\n",
    "codeup_df = codeup_df.rename(columns={'content' : 'original'})"
   ]
  },
  {
   "cell_type": "code",
   "execution_count": 277,
   "id": "6f755c73",
   "metadata": {},
   "outputs": [],
   "source": [
    "article_list = codeup_df.original.to_list()"
   ]
  },
  {
   "cell_type": "code",
   "execution_count": 279,
   "id": "02c6190f",
   "metadata": {},
   "outputs": [
    {
     "name": "stdout",
     "output_type": "stream",
     "text": [
      "['Are you feeling unfulfilled in your work but want to avoid returning to the traditional educational route? Codeup can help! Starting over as a professional is daunting and not always ideal. Codeup can help you go from a career you are bored with, to a job that excites you in just 6 months!\\nHere’s how…\\nData Science Program\\nDuring our 20-week program, you will have the opportunity to take your career to new heights with data science being one of the most needed jobs in tech.\\nYou’ll gather data, then clean it, explore it for trends, and apply machine learning models to make predictions.\\nUpon completing this program, you will know how to turn insights into actionable recommendations. You’ll be a huge asset to any company, having all the technical skills to become a data scientist with projects upon projects of experience under your belt.\\nCodeup\\nA common reason individuals opt not to change their careers is fear it is too late. Codeup has crafted a program that will guide you through your career transition and prove that you can jumpstart a new job at any age and experience level.\\nWhen you decide to attend Codeup, you get a support system. First, our admissions team will guide you through getting started as well as assist with getting your financial aid squared away.\\nOnce your program begins, you will have industry experts as your instructors who will help you reach your full potential and complete the program successfully.\\nNext, you will have a student experience team ready to assist you with navigating through the program and any of life’s obstacles that may arise.\\nFinally, you have a placement team to help you secure the job you’ll work so hard to land!\\n\\nIf you do not land a job within six months of completing a Codeup program, we will refund 100% of your paid tuition.\\nIf you aren’t sure if a career in data science is right for you, consider attending our 100% free instructor-led workshops. These workshops are designed to give you a taste of what you’ll learn in our programs, as well as give you information on financial aid and admissions.\\nWe can also provide program-specific information to your inbox at any time! Get started now or give us a call at (210) 802-7289 and we’ll walk you through the process.\\nJumpstart your tech career with the first and only accredited bootcamp in Texas!*\\n*Codeup is accredited for postsecondary, non-degree granting, career and technology programs by the Middle States Commission on Secondary Schools of the Middle States Association of Colleges and Schools, 3624 Market Street, Philadelphia, PA 19104, (267) 284-5000', 'Are you a hiring manager having trouble filling an IT position around the holidays? Codeup has a solution for hiring tech talent year round.\\nBoth job seekers and employers can run into obstacles when attempting to find and fill open roles around the holidays. When accounting for company closures, year end activities and vacations, hiring processes tend to slow.\\nCodeup\\nCodeup is the first accredited* tech bootcamp in Texas. Our program offerings include Full-Stack Web Development, Data Science and Cloud Administration. In 6 months or less, we produce quality tech talent well-equipped to enter the workforce.\\nHire our Grads\\nThere is a common misconception that coding bootcamp graduates are not trained well enough to perform at high standards. Codeup works daily to ensure the quality of education we are delivering is nothing shy of excellent to debunk this belief.\\nCodeup is currently the only accredited tech bootcamp in Texas. With accreditation comes a high caliber of educational expectations that we must deliver. Our graduates come with experience gained from hands-on intensive training from industry experts. Consider hiring our graduates because they are capable of meeting your needs.\\nBecome an Employer Partner\\nHiring a Codeup grad is free. There are no strings attached. Our promise to our students is to give them placement assistance to land their next position in-field.\\nOur placement team works to constantly build our network of employer partners. Employer partners are companies that hire for tech talent. These partners stay connected with Codeup year round to potentially hire students from multiple cohorts from either our San Antonio, TX or Dallas, TX campuses.\\nA few of our current employer partners include: H-E-B, USAA, Whole Foods Market, Oracle, Accenture and many more.\\nBecome an employer partner today to start hiring! Take a look at our Alumni Portal to view graduates looking for work and their resumes.\\nProspective Students\\nCodeup is a great place to launch your career in tech! We are the first and currently the only accredited tech bootcamp in Texas!\\nWe also offer a tuition refund guarantee which states that if a student does not find a job within 6 months of completing a Codeup program, we will issue a full refund on paid tuition.\\nIf you aren’t sure if a career in tech is right for you, consider attending our 100% free instructor-led workshops. These workshops are designed to give you a taste of what you’ll learn in our programs, as well as give you information on financial aid and admissions.\\nWe can also provide program-specific information to your inbox at any time! Get started now or give us a call at (210) 802-7289 and we’ll walk you through the process. We’d love to hear from you!\\n*Codeup is accredited for postsecondary, non-degree granting, career and technology programs by the Middle States Commission on Secondary Schools of the Middle States Association of Colleges and Schools, 3624 Market Street, Philadelphia, PA 19104, (267) 284-5000', 'Finding resources to fund your educational goals is possibly the largest obstacle students face when pursuing higher education.\\nCodeup offers a variety of funding options to select from, and most recently our Cloud Administration program has become eligible for GI Bill and VR&E funding.\\nCodeup Program\\nCodeup’s Cloud Administration program is a full-time 15-week course designed to prepare students for two AWS certifications: AWS Cloud Practitioner and AWS Solutions Architect Associate.\\nThroughout the program you’ll learn to build infrastructure that enables software and data science products, manage cloud deployments and optimize for cloud performance. With instruction from industry experts, upon successful completion of the program, you’ll be prepared for an entry-level position in the cloud.\\nNew Funding Options\\nCodeup’s Cloud Administration program has historically allowed you to select payment options utilizing grants, loans, scholarships, VA Benefits and self-pay. In addition to these options, we now accept GI Bill chapters 33 and 35 as well as VR&E services.\\nGI Bill Chapter 33\\nThe post- 9/11 GI Bill (Chapter 33) provides financial assistance for schooling or job training. Active duty service members beginning September 10, 2001 onward may be eligible for this benefit. Check your eligibility today.\\nGI Bill Chapter 35\\nDependents of Veterans or service members with special circumstances may be eligible for financial assistance for schooling or job training through the DEA program. Check your eligibility today.\\nVR&E Assistance Chapter 31\\nVeterans and family members may be eligible for Veteran Readiness and Employment services (formerly known as Vocational Rehabilitation and Employment). This will provide assistance with job training, education, employment accommodations, resume development and job seeking skills coaching. Apply here.\\nCodeup is a great place to launch your career in tech! We are the first and currently the only accredited bootcamp in Texas!\\nIf you aren’t sure if a career in tech is right for you, consider attending our 100% free instructor-led workshops. These workshops are designed to give you a taste of what you’ll learn in our programs, as well as give you information on financial aid and admissions.\\nWe can also provide program-specific information to your inbox at any time! Get started now or give us a call at (210) 802-7289 and we’ll walk you through the process.\\n*Codeup is accredited for postsecondary, non-degree granting, career and technology programs by the Middle States Commission on Secondary Schools of the Middle States Association of Colleges and Schools, 3624 Market Street, Philadelphia, PA 19104, (267) 284-5000', 'When breaking into a new career, it is important to explore the job opportunities that exist in your area. A common misconception with tech careers is that the prospect of success is only possible in big cities with a long reputation of successful tech companies. Today we will discuss how Dallas, TX is a major tech hub with enormous potential for success, as the home of the state’s biggest tech workforce.\\nDFW\\nThroughout the years, the tech community across the country has seen a drop in new jobs and tech company growth. The Dallas Fort Worth area has done remarkably well with maintaining its top status for new job postings even through the weak points the field has been facing.\\nAccording to CompTIA, Dallas has held onto their number three position for month-to-month new job postings following Washington D.C. and New York City. For the month of June in 2022, the DFW area had almost 28,000 new jobs listed.\\nTop DFW Tech Companies\\nThe following companies have a history of regularly hiring IT professionals in the DFW area.\\n\\nLockheed Martin\\nJPMorgan Chase\\nUSAA\\nCiti\\nDeloitte\\nVerizon\\nWells Fargo\\nIBM\\nNTT Data\\nInfoVision\\n\\nThese companies reflect a portion of the tech career opportunities in Dallas. Positions for all levels are also available in such a quickly evolving field.\\nHow to Start\\nCodeup is a great place to launch your career in tech! We area career accelerator that helps individuals quickly and seamlessly transition into a new career in tech.\\nOur Dallas location offers a Web Development bootcamp with a 20-week completion time.\\nCodeup is the first and currently the only accredited coding bootcamp in the state of Texas.* We have also been named the best trade/technical school in the DFW area by locals.\\nIf you aren’t sure if a career in tech is right for you, consider attending our 100% free instructor-led workshops. These workshops are designed to give you a taste of what you’ll learn in our programs, as well as give you information on financial aid and admissions.\\nWe can also provide program-specific information to your inbox at any time! Get started now or give us a call at (210) 802-7289 and we’ll walk you through the process.\\n*Codeup is accredited for postsecondary, non-degree granting, career and technology programs by the Middle States Commission on Secondary Schools of the Middle States Association of Colleges and Schools, 3624 Market Street, Philadelphia, PA 19104, (267) 284-5000', 'We are excited to announce that Codeup ranked #1 for Best Trade/Technical School in DFW!\\nClick here to see the Best in DFW announcement in the Dallas Morning News.\\nDetails on our Dallas campus and upcoming classes can be found here. We continue to look forward to empowering life change.\\nCodeup Dallas Campus\\n900 Jackson St Dallas, TX 75202', 'In honor of November being National Scholarship Month, we’d like to highlight Codeup’s current internal scholarship offerings!\\nThese scholarships are open to anyone who fits the criteria. Codeup values a diverse workspace, and we encourage everyone, regardless of background to pursue the career they desire. We’ve crafted the following scholarships to assist in funding a career change with Codeup.\\n\\nWomen in Tech Scholarship\\nThis scholarship is available to all women. We define “women” as anyone who identifies themselves as a woman, including transgender, genderqueer and non-binary women.\\nAnnie Easley Scholarship\\nThis scholarship is available to students who identify as Black or African-American.\\nMinorities in Tech Scholarship\\nThis scholarship is open to anyone who identifies as part of a minority group.\\nPride Scholarship\\nThis scholarship is open to anyone who identifies as part of the LGBTQIA+ community.\\nVeteran Scholarship\\nThis scholarship is open to military veterans and military dependents.\\nFirst Responders Scholarship\\nThis scholarship is open to current and former first responders.\\nCovid-19 Relief Scholarship\\nThis scholarship is open to anyone affected by Covid-19.\\n\\nApplicants are welcome to apply for scholarships at any point, but they are only awarded after you’ve been accepted into one of Codeup’s programs. If you haven’t yet, please get started with your Codeup application by clicking here.']\n"
     ]
    }
   ],
   "source": [
    "print(article_list)"
   ]
  },
  {
   "cell_type": "code",
   "execution_count": 283,
   "id": "0b041ec1",
   "metadata": {},
   "outputs": [],
   "source": [
    "codeup_df['clean'] = [basic_clean(i) for i in codeup_df.original]"
   ]
  },
  {
   "cell_type": "code",
   "execution_count": 284,
   "id": "2f39bddd",
   "metadata": {},
   "outputs": [
    {
     "data": {
      "text/html": [
       "<div>\n",
       "<style scoped>\n",
       "    .dataframe tbody tr th:only-of-type {\n",
       "        vertical-align: middle;\n",
       "    }\n",
       "\n",
       "    .dataframe tbody tr th {\n",
       "        vertical-align: top;\n",
       "    }\n",
       "\n",
       "    .dataframe thead th {\n",
       "        text-align: right;\n",
       "    }\n",
       "</style>\n",
       "<table border=\"1\" class=\"dataframe\">\n",
       "  <thead>\n",
       "    <tr style=\"text-align: right;\">\n",
       "      <th></th>\n",
       "      <th>title</th>\n",
       "      <th>original</th>\n",
       "      <th>clean</th>\n",
       "    </tr>\n",
       "  </thead>\n",
       "  <tbody>\n",
       "    <tr>\n",
       "      <th>0</th>\n",
       "      <td>Become a Data Scientist in 6 Months!</td>\n",
       "      <td>Are you feeling unfulfilled in your work but w...</td>\n",
       "      <td>are you feeling unfulfilled in your work but w...</td>\n",
       "    </tr>\n",
       "    <tr>\n",
       "      <th>1</th>\n",
       "      <td>Hiring Tech Talent Around the Holidays</td>\n",
       "      <td>Are you a hiring manager having trouble fillin...</td>\n",
       "      <td>are you a hiring manager having trouble fillin...</td>\n",
       "    </tr>\n",
       "    <tr>\n",
       "      <th>2</th>\n",
       "      <td>Cloud Administration Program New Funding Options</td>\n",
       "      <td>Finding resources to fund your educational goa...</td>\n",
       "      <td>finding resources to fund your educational goa...</td>\n",
       "    </tr>\n",
       "    <tr>\n",
       "      <th>3</th>\n",
       "      <td>Why Dallas is a Great Location for IT Professi...</td>\n",
       "      <td>When breaking into a new career, it is importa...</td>\n",
       "      <td>when breaking into a new career it is importan...</td>\n",
       "    </tr>\n",
       "    <tr>\n",
       "      <th>4</th>\n",
       "      <td>Codeup is ranked #1 Best in DFW 2022</td>\n",
       "      <td>We are excited to announce that Codeup ranked ...</td>\n",
       "      <td>we are excited to announce that codeup ranked ...</td>\n",
       "    </tr>\n",
       "    <tr>\n",
       "      <th>5</th>\n",
       "      <td>Codeup’s Scholarship Offerings</td>\n",
       "      <td>In honor of November being National Scholarshi...</td>\n",
       "      <td>in honor of november being national scholarshi...</td>\n",
       "    </tr>\n",
       "  </tbody>\n",
       "</table>\n",
       "</div>"
      ],
      "text/plain": [
       "                                               title  \\\n",
       "0               Become a Data Scientist in 6 Months!   \n",
       "1             Hiring Tech Talent Around the Holidays   \n",
       "2   Cloud Administration Program New Funding Options   \n",
       "3  Why Dallas is a Great Location for IT Professi...   \n",
       "4               Codeup is ranked #1 Best in DFW 2022   \n",
       "5                     Codeup’s Scholarship Offerings   \n",
       "\n",
       "                                            original  \\\n",
       "0  Are you feeling unfulfilled in your work but w...   \n",
       "1  Are you a hiring manager having trouble fillin...   \n",
       "2  Finding resources to fund your educational goa...   \n",
       "3  When breaking into a new career, it is importa...   \n",
       "4  We are excited to announce that Codeup ranked ...   \n",
       "5  In honor of November being National Scholarshi...   \n",
       "\n",
       "                                               clean  \n",
       "0  are you feeling unfulfilled in your work but w...  \n",
       "1  are you a hiring manager having trouble fillin...  \n",
       "2  finding resources to fund your educational goa...  \n",
       "3  when breaking into a new career it is importan...  \n",
       "4  we are excited to announce that codeup ranked ...  \n",
       "5  in honor of november being national scholarshi...  "
      ]
     },
     "execution_count": 284,
     "metadata": {},
     "output_type": "execute_result"
    }
   ],
   "source": [
    "codeup_df"
   ]
  },
  {
   "cell_type": "code",
   "execution_count": null,
   "id": "9c8ab372",
   "metadata": {},
   "outputs": [],
   "source": [
    "codeup_df['clean'] = tokenize(i) for i in codeup_df.clean"
   ]
  },
  {
   "cell_type": "code",
   "execution_count": 272,
   "id": "7b6b2fce",
   "metadata": {},
   "outputs": [],
   "source": [
    "def clean_blog_content(df):\n",
    "    #Rename original column to content\n",
    "    df = df.rename(columns={'content' : 'original'})\n",
    "    #Make a new column for clean data\n",
    "    df['clean'] = df['original'].copy()\n",
    "    #Use basic clean function to clean the text\n",
    "    for string in df.clean:\n",
    "        df['clean'] = basic_clean(string)\n",
    "        df['clean'] = tokenize(string, return_str=True)\n",
    "    return df"
   ]
  },
  {
   "cell_type": "code",
   "execution_count": 267,
   "id": "4a11a73c",
   "metadata": {},
   "outputs": [],
   "source": [
    "codeup_df = clean_blog_content(codeup_df)"
   ]
  },
  {
   "cell_type": "code",
   "execution_count": 268,
   "id": "7234bcfc",
   "metadata": {},
   "outputs": [
    {
     "data": {
      "text/html": [
       "<div>\n",
       "<style scoped>\n",
       "    .dataframe tbody tr th:only-of-type {\n",
       "        vertical-align: middle;\n",
       "    }\n",
       "\n",
       "    .dataframe tbody tr th {\n",
       "        vertical-align: top;\n",
       "    }\n",
       "\n",
       "    .dataframe thead th {\n",
       "        text-align: right;\n",
       "    }\n",
       "</style>\n",
       "<table border=\"1\" class=\"dataframe\">\n",
       "  <thead>\n",
       "    <tr style=\"text-align: right;\">\n",
       "      <th></th>\n",
       "      <th>title</th>\n",
       "      <th>original</th>\n",
       "      <th>clean</th>\n",
       "    </tr>\n",
       "  </thead>\n",
       "  <tbody>\n",
       "    <tr>\n",
       "      <th>0</th>\n",
       "      <td>Become a Data Scientist in 6 Months!</td>\n",
       "      <td>Are you feeling unfulfilled in your work but w...</td>\n",
       "      <td>Are you feeling unfulfilled in your work but w...</td>\n",
       "    </tr>\n",
       "    <tr>\n",
       "      <th>1</th>\n",
       "      <td>Hiring Tech Talent Around the Holidays</td>\n",
       "      <td>Are you a hiring manager having trouble fillin...</td>\n",
       "      <td>Are you a hiring manager having trouble fillin...</td>\n",
       "    </tr>\n",
       "    <tr>\n",
       "      <th>2</th>\n",
       "      <td>Cloud Administration Program New Funding Options</td>\n",
       "      <td>Finding resources to fund your educational goa...</td>\n",
       "      <td>Finding resources to fund your educational goa...</td>\n",
       "    </tr>\n",
       "    <tr>\n",
       "      <th>3</th>\n",
       "      <td>Why Dallas is a Great Location for IT Professi...</td>\n",
       "      <td>When breaking into a new career, it is importa...</td>\n",
       "      <td>When breaking into a new career, it is importa...</td>\n",
       "    </tr>\n",
       "    <tr>\n",
       "      <th>4</th>\n",
       "      <td>Codeup is ranked #1 Best in DFW 2022</td>\n",
       "      <td>We are excited to announce that Codeup ranked ...</td>\n",
       "      <td>We are excited to announce that Codeup ranked ...</td>\n",
       "    </tr>\n",
       "    <tr>\n",
       "      <th>5</th>\n",
       "      <td>Codeup’s Scholarship Offerings</td>\n",
       "      <td>In honor of November being National Scholarshi...</td>\n",
       "      <td>In honor of November being National Scholarshi...</td>\n",
       "    </tr>\n",
       "  </tbody>\n",
       "</table>\n",
       "</div>"
      ],
      "text/plain": [
       "                                               title  \\\n",
       "0               Become a Data Scientist in 6 Months!   \n",
       "1             Hiring Tech Talent Around the Holidays   \n",
       "2   Cloud Administration Program New Funding Options   \n",
       "3  Why Dallas is a Great Location for IT Professi...   \n",
       "4               Codeup is ranked #1 Best in DFW 2022   \n",
       "5                     Codeup’s Scholarship Offerings   \n",
       "\n",
       "                                            original  \\\n",
       "0  Are you feeling unfulfilled in your work but w...   \n",
       "1  Are you a hiring manager having trouble fillin...   \n",
       "2  Finding resources to fund your educational goa...   \n",
       "3  When breaking into a new career, it is importa...   \n",
       "4  We are excited to announce that Codeup ranked ...   \n",
       "5  In honor of November being National Scholarshi...   \n",
       "\n",
       "                                               clean  \n",
       "0  Are you feeling unfulfilled in your work but w...  \n",
       "1  Are you a hiring manager having trouble fillin...  \n",
       "2  Finding resources to fund your educational goa...  \n",
       "3  When breaking into a new career, it is importa...  \n",
       "4  We are excited to announce that Codeup ranked ...  \n",
       "5  In honor of November being National Scholarshi...  "
      ]
     },
     "execution_count": 268,
     "metadata": {},
     "output_type": "execute_result"
    }
   ],
   "source": [
    "codeup_df"
   ]
  },
  {
   "cell_type": "code",
   "execution_count": null,
   "id": "33def3b3",
   "metadata": {},
   "outputs": [],
   "source": []
  }
 ],
 "metadata": {
  "kernelspec": {
   "display_name": "Python 3 (ipykernel)",
   "language": "python",
   "name": "python3"
  },
  "language_info": {
   "codemirror_mode": {
    "name": "ipython",
    "version": 3
   },
   "file_extension": ".py",
   "mimetype": "text/x-python",
   "name": "python",
   "nbconvert_exporter": "python",
   "pygments_lexer": "ipython3",
   "version": "3.9.15"
  }
 },
 "nbformat": 4,
 "nbformat_minor": 5
}
